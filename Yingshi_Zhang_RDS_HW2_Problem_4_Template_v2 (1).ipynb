{
  "nbformat": 4,
  "nbformat_minor": 0,
  "metadata": {
    "colab": {
      "provenance": []
    },
    "kernelspec": {
      "name": "python3",
      "display_name": "Python 3"
    },
    "language_info": {
      "name": "python"
    }
  },
  "cells": [
    {
      "cell_type": "markdown",
      "source": [
        "# **HW 2 Problem 4 - Explainability with ShaRP**"
      ],
      "metadata": {
        "id": "jTFz1Gbt0TbP"
      }
    },
    {
      "cell_type": "markdown",
      "source": [
        "# Explaining lending decisions using ShaRP\n",
        "\n",
        "When multiple people apply for a loan, banks need to select who to fund. They do so by calculating how likely a person is to repay the loan and then select among the most likely. This process is a ranking process that ShaRP, a tool we saw in the lab, can explain."
      ],
      "metadata": {
        "id": "GiOcE_092dob"
      }
    },
    {
      "cell_type": "markdown",
      "source": [
        "To calculate feature importance, we will use ShaRP, a tool we've seen in the lab. For more information about the method, see the [full paper](https://arxiv.org/abs/2401.16744), and for more information about the toolkit see the [documentation](https://dataresponsibly.github.io/ShaRP/)."
      ],
      "metadata": {
        "id": "UwNmvX2p4lb8"
      }
    },
    {
      "cell_type": "markdown",
      "source": [
        "#1. Import Statements\n",
        "\n",
        "First we install `ShaRP` and the necessary packages for this problem"
      ],
      "metadata": {
        "id": "URXJ40r94iCF"
      }
    },
    {
      "cell_type": "code",
      "execution_count": 1,
      "metadata": {
        "colab": {
          "base_uri": "https://localhost:8080/"
        },
        "id": "8Q7ejpLGYBDq",
        "outputId": "cde8bd3d-92aa-4a87-c30d-0de3dcb413d1"
      },
      "outputs": [
        {
          "output_type": "stream",
          "name": "stdout",
          "text": [
            "Collecting folktables\n",
            "  Downloading folktables-0.0.12-py3-none-any.whl (17 kB)\n",
            "Requirement already satisfied: numpy in /usr/local/lib/python3.10/dist-packages (from folktables) (1.25.2)\n",
            "Requirement already satisfied: pandas in /usr/local/lib/python3.10/dist-packages (from folktables) (2.0.3)\n",
            "Requirement already satisfied: requests in /usr/local/lib/python3.10/dist-packages (from folktables) (2.31.0)\n",
            "Requirement already satisfied: scikit-learn in /usr/local/lib/python3.10/dist-packages (from folktables) (1.2.2)\n",
            "Requirement already satisfied: python-dateutil>=2.8.2 in /usr/local/lib/python3.10/dist-packages (from pandas->folktables) (2.8.2)\n",
            "Requirement already satisfied: pytz>=2020.1 in /usr/local/lib/python3.10/dist-packages (from pandas->folktables) (2023.4)\n",
            "Requirement already satisfied: tzdata>=2022.1 in /usr/local/lib/python3.10/dist-packages (from pandas->folktables) (2024.1)\n",
            "Requirement already satisfied: charset-normalizer<4,>=2 in /usr/local/lib/python3.10/dist-packages (from requests->folktables) (3.3.2)\n",
            "Requirement already satisfied: idna<4,>=2.5 in /usr/local/lib/python3.10/dist-packages (from requests->folktables) (3.6)\n",
            "Requirement already satisfied: urllib3<3,>=1.21.1 in /usr/local/lib/python3.10/dist-packages (from requests->folktables) (2.0.7)\n",
            "Requirement already satisfied: certifi>=2017.4.17 in /usr/local/lib/python3.10/dist-packages (from requests->folktables) (2024.2.2)\n",
            "Requirement already satisfied: scipy>=1.3.2 in /usr/local/lib/python3.10/dist-packages (from scikit-learn->folktables) (1.11.4)\n",
            "Requirement already satisfied: joblib>=1.1.1 in /usr/local/lib/python3.10/dist-packages (from scikit-learn->folktables) (1.3.2)\n",
            "Requirement already satisfied: threadpoolctl>=2.0.0 in /usr/local/lib/python3.10/dist-packages (from scikit-learn->folktables) (3.4.0)\n",
            "Requirement already satisfied: six>=1.5 in /usr/local/lib/python3.10/dist-packages (from python-dateutil>=2.8.2->pandas->folktables) (1.16.0)\n",
            "Installing collected packages: folktables\n",
            "Successfully installed folktables-0.0.12\n",
            "Collecting git+https://github.com/DataResponsibly/ShaRP.git\n",
            "  Cloning https://github.com/DataResponsibly/ShaRP.git to /tmp/pip-req-build-x7blvegf\n",
            "  Running command git clone --filter=blob:none --quiet https://github.com/DataResponsibly/ShaRP.git /tmp/pip-req-build-x7blvegf\n",
            "  Resolved https://github.com/DataResponsibly/ShaRP.git to commit b1583d7ce75fb1dde2f0ab46da6e3edd0b13d21d\n",
            "  Preparing metadata (setup.py) ... \u001b[?25l\u001b[?25hdone\n",
            "Requirement already satisfied: numpy>=1.20.0 in /usr/local/lib/python3.10/dist-packages (from sharp==0.1.dev0) (1.25.2)\n",
            "Requirement already satisfied: pandas>=1.3.5 in /usr/local/lib/python3.10/dist-packages (from sharp==0.1.dev0) (2.0.3)\n",
            "Requirement already satisfied: scikit-learn>=1.2.0 in /usr/local/lib/python3.10/dist-packages (from sharp==0.1.dev0) (1.2.2)\n",
            "Requirement already satisfied: tqdm>=4.46.0 in /usr/local/lib/python3.10/dist-packages (from sharp==0.1.dev0) (4.66.2)\n",
            "Requirement already satisfied: python-dateutil>=2.8.2 in /usr/local/lib/python3.10/dist-packages (from pandas>=1.3.5->sharp==0.1.dev0) (2.8.2)\n",
            "Requirement already satisfied: pytz>=2020.1 in /usr/local/lib/python3.10/dist-packages (from pandas>=1.3.5->sharp==0.1.dev0) (2023.4)\n",
            "Requirement already satisfied: tzdata>=2022.1 in /usr/local/lib/python3.10/dist-packages (from pandas>=1.3.5->sharp==0.1.dev0) (2024.1)\n",
            "Requirement already satisfied: scipy>=1.3.2 in /usr/local/lib/python3.10/dist-packages (from scikit-learn>=1.2.0->sharp==0.1.dev0) (1.11.4)\n",
            "Requirement already satisfied: joblib>=1.1.1 in /usr/local/lib/python3.10/dist-packages (from scikit-learn>=1.2.0->sharp==0.1.dev0) (1.3.2)\n",
            "Requirement already satisfied: threadpoolctl>=2.0.0 in /usr/local/lib/python3.10/dist-packages (from scikit-learn>=1.2.0->sharp==0.1.dev0) (3.4.0)\n",
            "Requirement already satisfied: six>=1.5 in /usr/local/lib/python3.10/dist-packages (from python-dateutil>=2.8.2->pandas>=1.3.5->sharp==0.1.dev0) (1.16.0)\n",
            "Building wheels for collected packages: sharp\n",
            "  Building wheel for sharp (setup.py) ... \u001b[?25l\u001b[?25hdone\n",
            "  Created wheel for sharp: filename=sharp-0.1.dev0-py3-none-any.whl size=28965 sha256=4beffe1d75ad50d5285f81eb1c20563ee4ae57162bc43c069ff2d4ff369a0772\n",
            "  Stored in directory: /tmp/pip-ephem-wheel-cache-mu4ebc1a/wheels/a8/77/22/f347a84278c6d9294aefeffe944354bbe6aa605222284e8019\n",
            "Successfully built sharp\n",
            "Installing collected packages: sharp\n",
            "Successfully installed sharp-0.1.dev0\n"
          ]
        }
      ],
      "source": [
        "# Data\n",
        "!pip install folktables\n",
        "# ShaRP\n",
        "!pip install git+https://github.com/DataResponsibly/ShaRP.git"
      ]
    },
    {
      "cell_type": "code",
      "source": [
        "#@markdown Import statments\n",
        "from folktables import ACSDataSource, ACSIncome\n",
        "\n",
        "import numpy as np\n",
        "\n",
        "import pandas as pd\n",
        "\n",
        "import matplotlib.pyplot as plt\n",
        "import matplotlib.ticker as mtick\n",
        "import matplotlib.ticker as ticker\n",
        "\n",
        "import seaborn as sns\n",
        "\n",
        "import math\n",
        "\n",
        "from sklearn.model_selection import train_test_split\n",
        "from sklearn.preprocessing import StandardScaler, MinMaxScaler\n",
        "from sklearn.linear_model import LogisticRegression\n",
        "\n",
        "from sharp import ShaRP\n",
        "from sharp.utils import scores_to_ordering"
      ],
      "metadata": {
        "id": "ulyDUxyiYM-E"
      },
      "execution_count": 2,
      "outputs": []
    },
    {
      "cell_type": "markdown",
      "source": [
        "#2. Load Data\n",
        "\n",
        "Next, we will load the ACSIncome dataset from the Folktables benchmark --- this is the same dataset used in Lab 2, 3 and 9.  Folktables is based from US Census Data and is built to solve a few simple prediction tasks. The sample we pull is data from 2018 in California. The column names are described in the table below. Note that certain categorical variables have been mapped to integer values, which we will keep as-is for the following analyses."
      ],
      "metadata": {
        "id": "A8FHA1kD44UC"
      }
    },
    {
      "cell_type": "markdown",
      "source": [
        "## Data profiling\n",
        "\n",
        "| Column Name | Feature | Description/Notes |\n",
        "| --- | ----------- | --- |\n",
        "| PINCP | Total person’s income | (Target) 1 if >= $50k, 0 if less |\n",
        "| SEX | Sex | (Sensitive Attribute) Male=1, Female=2 |\n",
        "| RAC1P | Race | (Sensitive Attribute) White=1, Black=2, Other races are between 3 and 9 |\n",
        "| AGEP | Age | Ranges from 0-99 |\n",
        "| COW | Class of Worker | Ranges 1-9, see paper for description |\n",
        "| SCHL | Education Level | Ranges 1-24, see paper for description |\n",
        "| MAR | Marital Status | Ranges 1-5, see paper for description |\n",
        "| OCCP | Occupation | Codes taken from Public Use Microdata Sample (PUMS) from the US Census, see paper |\n",
        "| POBP | Place of Birth | Codes taken from Public Use Microdata Sample (PUMS) from the US Census, see paper |\n",
        "| RELP | Relationship | Relationship of individual to person who responded to the Census taker. Ranges 0-17, see paper for description |\n",
        "| WKHP | Hours worked per week | Ranges from 0-99, averaged over previous year |"
      ],
      "metadata": {
        "id": "h3bNDwQ85BIM"
      }
    },
    {
      "cell_type": "code",
      "source": [
        "#@markdown Import data\n",
        "data_source = ACSDataSource(survey_year='2018', horizon='1-Year', survey='person')\n",
        "acs_data = data_source.get_data(states=[\"CA\"], download=True)\n",
        "features = ACSIncome.features\n",
        "target_name = ACSIncome.target\n",
        "data = acs_data.sample(1000, random_state=39)[features+list([target_name])]\n",
        "\n",
        "print(data.shape)\n",
        "data.head()"
      ],
      "metadata": {
        "colab": {
          "base_uri": "https://localhost:8080/",
          "height": 242
        },
        "id": "zAvcY-VRYSDM",
        "outputId": "c017e5c6-393d-435e-b080-f4276123abb7"
      },
      "execution_count": 3,
      "outputs": [
        {
          "output_type": "stream",
          "name": "stdout",
          "text": [
            "Downloading data for 2018 1-Year person survey for CA...\n",
            "(1000, 11)\n"
          ]
        },
        {
          "output_type": "execute_result",
          "data": {
            "text/plain": [
              "        AGEP  COW  SCHL  MAR    OCCP  POBP  RELP  WKHP  SEX  RAC1P    PINCP\n",
              "123170    40  1.0  12.0    4  9640.0   303     0  40.0    2      8   6300.0\n",
              "366093    40  3.0  16.0    5  5240.0   316    10  40.0    2      8  36000.0\n",
              "279966    37  1.0  20.0    5  5000.0   303     5   NaN    2      1      0.0\n",
              "206601    50  1.0  16.0    1  7700.0   206     1  56.0    1      6  48000.0\n",
              "96394     26  7.0  19.0    5  7200.0   216     2  50.0    1      1  60000.0"
            ],
            "text/html": [
              "\n",
              "  <div id=\"df-c0e0d9ad-96f5-4193-9f73-9ef7d516330f\" class=\"colab-df-container\">\n",
              "    <div>\n",
              "<style scoped>\n",
              "    .dataframe tbody tr th:only-of-type {\n",
              "        vertical-align: middle;\n",
              "    }\n",
              "\n",
              "    .dataframe tbody tr th {\n",
              "        vertical-align: top;\n",
              "    }\n",
              "\n",
              "    .dataframe thead th {\n",
              "        text-align: right;\n",
              "    }\n",
              "</style>\n",
              "<table border=\"1\" class=\"dataframe\">\n",
              "  <thead>\n",
              "    <tr style=\"text-align: right;\">\n",
              "      <th></th>\n",
              "      <th>AGEP</th>\n",
              "      <th>COW</th>\n",
              "      <th>SCHL</th>\n",
              "      <th>MAR</th>\n",
              "      <th>OCCP</th>\n",
              "      <th>POBP</th>\n",
              "      <th>RELP</th>\n",
              "      <th>WKHP</th>\n",
              "      <th>SEX</th>\n",
              "      <th>RAC1P</th>\n",
              "      <th>PINCP</th>\n",
              "    </tr>\n",
              "  </thead>\n",
              "  <tbody>\n",
              "    <tr>\n",
              "      <th>123170</th>\n",
              "      <td>40</td>\n",
              "      <td>1.0</td>\n",
              "      <td>12.0</td>\n",
              "      <td>4</td>\n",
              "      <td>9640.0</td>\n",
              "      <td>303</td>\n",
              "      <td>0</td>\n",
              "      <td>40.0</td>\n",
              "      <td>2</td>\n",
              "      <td>8</td>\n",
              "      <td>6300.0</td>\n",
              "    </tr>\n",
              "    <tr>\n",
              "      <th>366093</th>\n",
              "      <td>40</td>\n",
              "      <td>3.0</td>\n",
              "      <td>16.0</td>\n",
              "      <td>5</td>\n",
              "      <td>5240.0</td>\n",
              "      <td>316</td>\n",
              "      <td>10</td>\n",
              "      <td>40.0</td>\n",
              "      <td>2</td>\n",
              "      <td>8</td>\n",
              "      <td>36000.0</td>\n",
              "    </tr>\n",
              "    <tr>\n",
              "      <th>279966</th>\n",
              "      <td>37</td>\n",
              "      <td>1.0</td>\n",
              "      <td>20.0</td>\n",
              "      <td>5</td>\n",
              "      <td>5000.0</td>\n",
              "      <td>303</td>\n",
              "      <td>5</td>\n",
              "      <td>NaN</td>\n",
              "      <td>2</td>\n",
              "      <td>1</td>\n",
              "      <td>0.0</td>\n",
              "    </tr>\n",
              "    <tr>\n",
              "      <th>206601</th>\n",
              "      <td>50</td>\n",
              "      <td>1.0</td>\n",
              "      <td>16.0</td>\n",
              "      <td>1</td>\n",
              "      <td>7700.0</td>\n",
              "      <td>206</td>\n",
              "      <td>1</td>\n",
              "      <td>56.0</td>\n",
              "      <td>1</td>\n",
              "      <td>6</td>\n",
              "      <td>48000.0</td>\n",
              "    </tr>\n",
              "    <tr>\n",
              "      <th>96394</th>\n",
              "      <td>26</td>\n",
              "      <td>7.0</td>\n",
              "      <td>19.0</td>\n",
              "      <td>5</td>\n",
              "      <td>7200.0</td>\n",
              "      <td>216</td>\n",
              "      <td>2</td>\n",
              "      <td>50.0</td>\n",
              "      <td>1</td>\n",
              "      <td>1</td>\n",
              "      <td>60000.0</td>\n",
              "    </tr>\n",
              "  </tbody>\n",
              "</table>\n",
              "</div>\n",
              "    <div class=\"colab-df-buttons\">\n",
              "\n",
              "  <div class=\"colab-df-container\">\n",
              "    <button class=\"colab-df-convert\" onclick=\"convertToInteractive('df-c0e0d9ad-96f5-4193-9f73-9ef7d516330f')\"\n",
              "            title=\"Convert this dataframe to an interactive table.\"\n",
              "            style=\"display:none;\">\n",
              "\n",
              "  <svg xmlns=\"http://www.w3.org/2000/svg\" height=\"24px\" viewBox=\"0 -960 960 960\">\n",
              "    <path d=\"M120-120v-720h720v720H120Zm60-500h600v-160H180v160Zm220 220h160v-160H400v160Zm0 220h160v-160H400v160ZM180-400h160v-160H180v160Zm440 0h160v-160H620v160ZM180-180h160v-160H180v160Zm440 0h160v-160H620v160Z\"/>\n",
              "  </svg>\n",
              "    </button>\n",
              "\n",
              "  <style>\n",
              "    .colab-df-container {\n",
              "      display:flex;\n",
              "      gap: 12px;\n",
              "    }\n",
              "\n",
              "    .colab-df-convert {\n",
              "      background-color: #E8F0FE;\n",
              "      border: none;\n",
              "      border-radius: 50%;\n",
              "      cursor: pointer;\n",
              "      display: none;\n",
              "      fill: #1967D2;\n",
              "      height: 32px;\n",
              "      padding: 0 0 0 0;\n",
              "      width: 32px;\n",
              "    }\n",
              "\n",
              "    .colab-df-convert:hover {\n",
              "      background-color: #E2EBFA;\n",
              "      box-shadow: 0px 1px 2px rgba(60, 64, 67, 0.3), 0px 1px 3px 1px rgba(60, 64, 67, 0.15);\n",
              "      fill: #174EA6;\n",
              "    }\n",
              "\n",
              "    .colab-df-buttons div {\n",
              "      margin-bottom: 4px;\n",
              "    }\n",
              "\n",
              "    [theme=dark] .colab-df-convert {\n",
              "      background-color: #3B4455;\n",
              "      fill: #D2E3FC;\n",
              "    }\n",
              "\n",
              "    [theme=dark] .colab-df-convert:hover {\n",
              "      background-color: #434B5C;\n",
              "      box-shadow: 0px 1px 3px 1px rgba(0, 0, 0, 0.15);\n",
              "      filter: drop-shadow(0px 1px 2px rgba(0, 0, 0, 0.3));\n",
              "      fill: #FFFFFF;\n",
              "    }\n",
              "  </style>\n",
              "\n",
              "    <script>\n",
              "      const buttonEl =\n",
              "        document.querySelector('#df-c0e0d9ad-96f5-4193-9f73-9ef7d516330f button.colab-df-convert');\n",
              "      buttonEl.style.display =\n",
              "        google.colab.kernel.accessAllowed ? 'block' : 'none';\n",
              "\n",
              "      async function convertToInteractive(key) {\n",
              "        const element = document.querySelector('#df-c0e0d9ad-96f5-4193-9f73-9ef7d516330f');\n",
              "        const dataTable =\n",
              "          await google.colab.kernel.invokeFunction('convertToInteractive',\n",
              "                                                    [key], {});\n",
              "        if (!dataTable) return;\n",
              "\n",
              "        const docLinkHtml = 'Like what you see? Visit the ' +\n",
              "          '<a target=\"_blank\" href=https://colab.research.google.com/notebooks/data_table.ipynb>data table notebook</a>'\n",
              "          + ' to learn more about interactive tables.';\n",
              "        element.innerHTML = '';\n",
              "        dataTable['output_type'] = 'display_data';\n",
              "        await google.colab.output.renderOutput(dataTable, element);\n",
              "        const docLink = document.createElement('div');\n",
              "        docLink.innerHTML = docLinkHtml;\n",
              "        element.appendChild(docLink);\n",
              "      }\n",
              "    </script>\n",
              "  </div>\n",
              "\n",
              "\n",
              "<div id=\"df-0dd81f15-a4dd-48e7-970b-607cb7ba05e6\">\n",
              "  <button class=\"colab-df-quickchart\" onclick=\"quickchart('df-0dd81f15-a4dd-48e7-970b-607cb7ba05e6')\"\n",
              "            title=\"Suggest charts\"\n",
              "            style=\"display:none;\">\n",
              "\n",
              "<svg xmlns=\"http://www.w3.org/2000/svg\" height=\"24px\"viewBox=\"0 0 24 24\"\n",
              "     width=\"24px\">\n",
              "    <g>\n",
              "        <path d=\"M19 3H5c-1.1 0-2 .9-2 2v14c0 1.1.9 2 2 2h14c1.1 0 2-.9 2-2V5c0-1.1-.9-2-2-2zM9 17H7v-7h2v7zm4 0h-2V7h2v10zm4 0h-2v-4h2v4z\"/>\n",
              "    </g>\n",
              "</svg>\n",
              "  </button>\n",
              "\n",
              "<style>\n",
              "  .colab-df-quickchart {\n",
              "      --bg-color: #E8F0FE;\n",
              "      --fill-color: #1967D2;\n",
              "      --hover-bg-color: #E2EBFA;\n",
              "      --hover-fill-color: #174EA6;\n",
              "      --disabled-fill-color: #AAA;\n",
              "      --disabled-bg-color: #DDD;\n",
              "  }\n",
              "\n",
              "  [theme=dark] .colab-df-quickchart {\n",
              "      --bg-color: #3B4455;\n",
              "      --fill-color: #D2E3FC;\n",
              "      --hover-bg-color: #434B5C;\n",
              "      --hover-fill-color: #FFFFFF;\n",
              "      --disabled-bg-color: #3B4455;\n",
              "      --disabled-fill-color: #666;\n",
              "  }\n",
              "\n",
              "  .colab-df-quickchart {\n",
              "    background-color: var(--bg-color);\n",
              "    border: none;\n",
              "    border-radius: 50%;\n",
              "    cursor: pointer;\n",
              "    display: none;\n",
              "    fill: var(--fill-color);\n",
              "    height: 32px;\n",
              "    padding: 0;\n",
              "    width: 32px;\n",
              "  }\n",
              "\n",
              "  .colab-df-quickchart:hover {\n",
              "    background-color: var(--hover-bg-color);\n",
              "    box-shadow: 0 1px 2px rgba(60, 64, 67, 0.3), 0 1px 3px 1px rgba(60, 64, 67, 0.15);\n",
              "    fill: var(--button-hover-fill-color);\n",
              "  }\n",
              "\n",
              "  .colab-df-quickchart-complete:disabled,\n",
              "  .colab-df-quickchart-complete:disabled:hover {\n",
              "    background-color: var(--disabled-bg-color);\n",
              "    fill: var(--disabled-fill-color);\n",
              "    box-shadow: none;\n",
              "  }\n",
              "\n",
              "  .colab-df-spinner {\n",
              "    border: 2px solid var(--fill-color);\n",
              "    border-color: transparent;\n",
              "    border-bottom-color: var(--fill-color);\n",
              "    animation:\n",
              "      spin 1s steps(1) infinite;\n",
              "  }\n",
              "\n",
              "  @keyframes spin {\n",
              "    0% {\n",
              "      border-color: transparent;\n",
              "      border-bottom-color: var(--fill-color);\n",
              "      border-left-color: var(--fill-color);\n",
              "    }\n",
              "    20% {\n",
              "      border-color: transparent;\n",
              "      border-left-color: var(--fill-color);\n",
              "      border-top-color: var(--fill-color);\n",
              "    }\n",
              "    30% {\n",
              "      border-color: transparent;\n",
              "      border-left-color: var(--fill-color);\n",
              "      border-top-color: var(--fill-color);\n",
              "      border-right-color: var(--fill-color);\n",
              "    }\n",
              "    40% {\n",
              "      border-color: transparent;\n",
              "      border-right-color: var(--fill-color);\n",
              "      border-top-color: var(--fill-color);\n",
              "    }\n",
              "    60% {\n",
              "      border-color: transparent;\n",
              "      border-right-color: var(--fill-color);\n",
              "    }\n",
              "    80% {\n",
              "      border-color: transparent;\n",
              "      border-right-color: var(--fill-color);\n",
              "      border-bottom-color: var(--fill-color);\n",
              "    }\n",
              "    90% {\n",
              "      border-color: transparent;\n",
              "      border-bottom-color: var(--fill-color);\n",
              "    }\n",
              "  }\n",
              "</style>\n",
              "\n",
              "  <script>\n",
              "    async function quickchart(key) {\n",
              "      const quickchartButtonEl =\n",
              "        document.querySelector('#' + key + ' button');\n",
              "      quickchartButtonEl.disabled = true;  // To prevent multiple clicks.\n",
              "      quickchartButtonEl.classList.add('colab-df-spinner');\n",
              "      try {\n",
              "        const charts = await google.colab.kernel.invokeFunction(\n",
              "            'suggestCharts', [key], {});\n",
              "      } catch (error) {\n",
              "        console.error('Error during call to suggestCharts:', error);\n",
              "      }\n",
              "      quickchartButtonEl.classList.remove('colab-df-spinner');\n",
              "      quickchartButtonEl.classList.add('colab-df-quickchart-complete');\n",
              "    }\n",
              "    (() => {\n",
              "      let quickchartButtonEl =\n",
              "        document.querySelector('#df-0dd81f15-a4dd-48e7-970b-607cb7ba05e6 button');\n",
              "      quickchartButtonEl.style.display =\n",
              "        google.colab.kernel.accessAllowed ? 'block' : 'none';\n",
              "    })();\n",
              "  </script>\n",
              "</div>\n",
              "\n",
              "    </div>\n",
              "  </div>\n"
            ],
            "application/vnd.google.colaboratory.intrinsic+json": {
              "type": "dataframe",
              "variable_name": "data",
              "summary": "{\n  \"name\": \"data\",\n  \"rows\": 1000,\n  \"fields\": [\n    {\n      \"column\": \"AGEP\",\n      \"properties\": {\n        \"dtype\": \"number\",\n        \"std\": 22,\n        \"min\": 0,\n        \"max\": 94,\n        \"num_unique_values\": 91,\n        \"samples\": [\n          9,\n          18,\n          49\n        ],\n        \"semantic_type\": \"\",\n        \"description\": \"\"\n      }\n    },\n    {\n      \"column\": \"COW\",\n      \"properties\": {\n        \"dtype\": \"number\",\n        \"std\": 2.034522429799687,\n        \"min\": 1.0,\n        \"max\": 9.0,\n        \"num_unique_values\": 9,\n        \"samples\": [\n          4.0,\n          3.0,\n          2.0\n        ],\n        \"semantic_type\": \"\",\n        \"description\": \"\"\n      }\n    },\n    {\n      \"column\": \"SCHL\",\n      \"properties\": {\n        \"dtype\": \"number\",\n        \"std\": 6.037273143853476,\n        \"min\": 1.0,\n        \"max\": 24.0,\n        \"num_unique_values\": 24,\n        \"samples\": [\n          1.0,\n          24.0,\n          12.0\n        ],\n        \"semantic_type\": \"\",\n        \"description\": \"\"\n      }\n    },\n    {\n      \"column\": \"MAR\",\n      \"properties\": {\n        \"dtype\": \"number\",\n        \"std\": 1,\n        \"min\": 1,\n        \"max\": 5,\n        \"num_unique_values\": 5,\n        \"samples\": [\n          5,\n          2,\n          1\n        ],\n        \"semantic_type\": \"\",\n        \"description\": \"\"\n      }\n    },\n    {\n      \"column\": \"OCCP\",\n      \"properties\": {\n        \"dtype\": \"number\",\n        \"std\": 2733.382848709748,\n        \"min\": 10.0,\n        \"max\": 9920.0,\n        \"num_unique_values\": 201,\n        \"samples\": [\n          7210.0,\n          10.0,\n          7020.0\n        ],\n        \"semantic_type\": \"\",\n        \"description\": \"\"\n      }\n    },\n    {\n      \"column\": \"POBP\",\n      \"properties\": {\n        \"dtype\": \"number\",\n        \"std\": 122,\n        \"min\": 4,\n        \"max\": 508,\n        \"num_unique_values\": 97,\n        \"samples\": [\n          32,\n          449,\n          129\n        ],\n        \"semantic_type\": \"\",\n        \"description\": \"\"\n      }\n    },\n    {\n      \"column\": \"RELP\",\n      \"properties\": {\n        \"dtype\": \"number\",\n        \"std\": 4,\n        \"min\": 0,\n        \"max\": 17,\n        \"num_unique_values\": 17,\n        \"samples\": [\n          0,\n          10,\n          4\n        ],\n        \"semantic_type\": \"\",\n        \"description\": \"\"\n      }\n    },\n    {\n      \"column\": \"WKHP\",\n      \"properties\": {\n        \"dtype\": \"number\",\n        \"std\": 13.01502618660003,\n        \"min\": 1.0,\n        \"max\": 99.0,\n        \"num_unique_values\": 48,\n        \"samples\": [\n          72.0,\n          33.0,\n          24.0\n        ],\n        \"semantic_type\": \"\",\n        \"description\": \"\"\n      }\n    },\n    {\n      \"column\": \"SEX\",\n      \"properties\": {\n        \"dtype\": \"number\",\n        \"std\": 0,\n        \"min\": 1,\n        \"max\": 2,\n        \"num_unique_values\": 2,\n        \"samples\": [\n          1,\n          2\n        ],\n        \"semantic_type\": \"\",\n        \"description\": \"\"\n      }\n    },\n    {\n      \"column\": \"RAC1P\",\n      \"properties\": {\n        \"dtype\": \"number\",\n        \"std\": 2,\n        \"min\": 1,\n        \"max\": 9,\n        \"num_unique_values\": 8,\n        \"samples\": [\n          1,\n          3\n        ],\n        \"semantic_type\": \"\",\n        \"description\": \"\"\n      }\n    },\n    {\n      \"column\": \"PINCP\",\n      \"properties\": {\n        \"dtype\": \"number\",\n        \"std\": 82237.01285319953,\n        \"min\": -4800.0,\n        \"max\": 941000.0,\n        \"num_unique_values\": 351,\n        \"samples\": [\n          38000.0,\n          15800.0\n        ],\n        \"semantic_type\": \"\",\n        \"description\": \"\"\n      }\n    }\n  ]\n}"
            }
          },
          "metadata": {},
          "execution_count": 3
        }
      ]
    },
    {
      "cell_type": "markdown",
      "source": [
        "## Preprocessing\n",
        "\n",
        "Similarly to the explainability lab, we will be working with a limited number of features. We will also preprocess the data by dropping N/A columns and changing the type of features, as we did for this dataset in the labs."
      ],
      "metadata": {
        "id": "T5glmBPQ5OTs"
      }
    },
    {
      "cell_type": "code",
      "source": [
        "#@markdown Drop rows with missing values\n",
        "data.dropna(inplace=True)\n",
        "data.info()"
      ],
      "metadata": {
        "colab": {
          "base_uri": "https://localhost:8080/"
        },
        "id": "3cTZwBbtYXnJ",
        "outputId": "50d1ba84-071b-44db-9d6a-c6a344ce92b6"
      },
      "execution_count": 4,
      "outputs": [
        {
          "output_type": "stream",
          "name": "stdout",
          "text": [
            "<class 'pandas.core.frame.DataFrame'>\n",
            "Index: 545 entries, 123170 to 242250\n",
            "Data columns (total 11 columns):\n",
            " #   Column  Non-Null Count  Dtype  \n",
            "---  ------  --------------  -----  \n",
            " 0   AGEP    545 non-null    int64  \n",
            " 1   COW     545 non-null    float64\n",
            " 2   SCHL    545 non-null    float64\n",
            " 3   MAR     545 non-null    int64  \n",
            " 4   OCCP    545 non-null    float64\n",
            " 5   POBP    545 non-null    int64  \n",
            " 6   RELP    545 non-null    int64  \n",
            " 7   WKHP    545 non-null    float64\n",
            " 8   SEX     545 non-null    int64  \n",
            " 9   RAC1P   545 non-null    int64  \n",
            " 10  PINCP   545 non-null    float64\n",
            "dtypes: float64(5), int64(6)\n",
            "memory usage: 51.1 KB\n"
          ]
        }
      ]
    },
    {
      "cell_type": "code",
      "source": [
        "# @markdown Count how many people we are ranking\n",
        "population_size = data.shape[0]\n",
        "print(population_size)"
      ],
      "metadata": {
        "colab": {
          "base_uri": "https://localhost:8080/"
        },
        "id": "8gx4VEvYrwi9",
        "outputId": "3088e657-d243-4798-992a-cfb3c813be0c"
      },
      "execution_count": 5,
      "outputs": [
        {
          "output_type": "stream",
          "name": "stdout",
          "text": [
            "545\n"
          ]
        }
      ]
    },
    {
      "cell_type": "code",
      "source": [
        "#@markdown Drop non-ordinal and some sensitive categorical features\n",
        "non_ordinal_categorical_cols = ['COW','MAR','OCCP','POBP','RELP','SEX']\n",
        "data.drop(columns=non_ordinal_categorical_cols, inplace=True)"
      ],
      "metadata": {
        "id": "KiZBne-zI0VZ"
      },
      "execution_count": 6,
      "outputs": []
    },
    {
      "cell_type": "code",
      "source": [
        "#@markdown Change data types of categorical features and sensitive feature we will be using.\n",
        "# @markdown Note that we will use SCHL as a numerical feature because it's ordinal\n",
        "numerical_cols = ['AGEP','WKHP', 'SCHL']\n",
        "categorical_cols = ['RAC1P']\n",
        "\n",
        "for col in categorical_cols:\n",
        "  data[col] = data[col].astype('int')\n",
        "  data[col] = data[col].astype('category')\n",
        "\n",
        "data.info()"
      ],
      "metadata": {
        "colab": {
          "base_uri": "https://localhost:8080/"
        },
        "id": "pMsmDc0GYeef",
        "outputId": "55ce8d18-1bdb-49f7-d6df-5fd5c45a2f95"
      },
      "execution_count": 7,
      "outputs": [
        {
          "output_type": "stream",
          "name": "stdout",
          "text": [
            "<class 'pandas.core.frame.DataFrame'>\n",
            "Index: 545 entries, 123170 to 242250\n",
            "Data columns (total 5 columns):\n",
            " #   Column  Non-Null Count  Dtype   \n",
            "---  ------  --------------  -----   \n",
            " 0   AGEP    545 non-null    int64   \n",
            " 1   SCHL    545 non-null    float64 \n",
            " 2   WKHP    545 non-null    float64 \n",
            " 3   RAC1P   545 non-null    category\n",
            " 4   PINCP   545 non-null    float64 \n",
            "dtypes: category(1), float64(3), int64(1)\n",
            "memory usage: 22.2 KB\n"
          ]
        }
      ]
    },
    {
      "cell_type": "code",
      "source": [
        "#@markdown Standardize numerical features, we will use a min-max scaler because we use linear weighted functions\n",
        "scaler = MinMaxScaler()\n",
        "data[numerical_cols] = scaler.fit_transform(data[numerical_cols])\n",
        "data.head()"
      ],
      "metadata": {
        "colab": {
          "base_uri": "https://localhost:8080/",
          "height": 206
        },
        "id": "IUKaF17fiRwM",
        "outputId": "707622b1-8f6f-4f5f-fba8-599e373f111f"
      },
      "execution_count": 8,
      "outputs": [
        {
          "output_type": "execute_result",
          "data": {
            "text/plain": [
              "            AGEP      SCHL      WKHP RAC1P    PINCP\n",
              "123170  0.363636  0.478261  0.397959     8   6300.0\n",
              "366093  0.363636  0.652174  0.397959     8  36000.0\n",
              "206601  0.515152  0.652174  0.561224     6  48000.0\n",
              "96394   0.151515  0.782609  0.500000     1  60000.0\n",
              "232318  0.393939  0.869565  0.500000     9  55000.0"
            ],
            "text/html": [
              "\n",
              "  <div id=\"df-b485e192-37ac-4717-92e9-e43aff96b3f1\" class=\"colab-df-container\">\n",
              "    <div>\n",
              "<style scoped>\n",
              "    .dataframe tbody tr th:only-of-type {\n",
              "        vertical-align: middle;\n",
              "    }\n",
              "\n",
              "    .dataframe tbody tr th {\n",
              "        vertical-align: top;\n",
              "    }\n",
              "\n",
              "    .dataframe thead th {\n",
              "        text-align: right;\n",
              "    }\n",
              "</style>\n",
              "<table border=\"1\" class=\"dataframe\">\n",
              "  <thead>\n",
              "    <tr style=\"text-align: right;\">\n",
              "      <th></th>\n",
              "      <th>AGEP</th>\n",
              "      <th>SCHL</th>\n",
              "      <th>WKHP</th>\n",
              "      <th>RAC1P</th>\n",
              "      <th>PINCP</th>\n",
              "    </tr>\n",
              "  </thead>\n",
              "  <tbody>\n",
              "    <tr>\n",
              "      <th>123170</th>\n",
              "      <td>0.363636</td>\n",
              "      <td>0.478261</td>\n",
              "      <td>0.397959</td>\n",
              "      <td>8</td>\n",
              "      <td>6300.0</td>\n",
              "    </tr>\n",
              "    <tr>\n",
              "      <th>366093</th>\n",
              "      <td>0.363636</td>\n",
              "      <td>0.652174</td>\n",
              "      <td>0.397959</td>\n",
              "      <td>8</td>\n",
              "      <td>36000.0</td>\n",
              "    </tr>\n",
              "    <tr>\n",
              "      <th>206601</th>\n",
              "      <td>0.515152</td>\n",
              "      <td>0.652174</td>\n",
              "      <td>0.561224</td>\n",
              "      <td>6</td>\n",
              "      <td>48000.0</td>\n",
              "    </tr>\n",
              "    <tr>\n",
              "      <th>96394</th>\n",
              "      <td>0.151515</td>\n",
              "      <td>0.782609</td>\n",
              "      <td>0.500000</td>\n",
              "      <td>1</td>\n",
              "      <td>60000.0</td>\n",
              "    </tr>\n",
              "    <tr>\n",
              "      <th>232318</th>\n",
              "      <td>0.393939</td>\n",
              "      <td>0.869565</td>\n",
              "      <td>0.500000</td>\n",
              "      <td>9</td>\n",
              "      <td>55000.0</td>\n",
              "    </tr>\n",
              "  </tbody>\n",
              "</table>\n",
              "</div>\n",
              "    <div class=\"colab-df-buttons\">\n",
              "\n",
              "  <div class=\"colab-df-container\">\n",
              "    <button class=\"colab-df-convert\" onclick=\"convertToInteractive('df-b485e192-37ac-4717-92e9-e43aff96b3f1')\"\n",
              "            title=\"Convert this dataframe to an interactive table.\"\n",
              "            style=\"display:none;\">\n",
              "\n",
              "  <svg xmlns=\"http://www.w3.org/2000/svg\" height=\"24px\" viewBox=\"0 -960 960 960\">\n",
              "    <path d=\"M120-120v-720h720v720H120Zm60-500h600v-160H180v160Zm220 220h160v-160H400v160Zm0 220h160v-160H400v160ZM180-400h160v-160H180v160Zm440 0h160v-160H620v160ZM180-180h160v-160H180v160Zm440 0h160v-160H620v160Z\"/>\n",
              "  </svg>\n",
              "    </button>\n",
              "\n",
              "  <style>\n",
              "    .colab-df-container {\n",
              "      display:flex;\n",
              "      gap: 12px;\n",
              "    }\n",
              "\n",
              "    .colab-df-convert {\n",
              "      background-color: #E8F0FE;\n",
              "      border: none;\n",
              "      border-radius: 50%;\n",
              "      cursor: pointer;\n",
              "      display: none;\n",
              "      fill: #1967D2;\n",
              "      height: 32px;\n",
              "      padding: 0 0 0 0;\n",
              "      width: 32px;\n",
              "    }\n",
              "\n",
              "    .colab-df-convert:hover {\n",
              "      background-color: #E2EBFA;\n",
              "      box-shadow: 0px 1px 2px rgba(60, 64, 67, 0.3), 0px 1px 3px 1px rgba(60, 64, 67, 0.15);\n",
              "      fill: #174EA6;\n",
              "    }\n",
              "\n",
              "    .colab-df-buttons div {\n",
              "      margin-bottom: 4px;\n",
              "    }\n",
              "\n",
              "    [theme=dark] .colab-df-convert {\n",
              "      background-color: #3B4455;\n",
              "      fill: #D2E3FC;\n",
              "    }\n",
              "\n",
              "    [theme=dark] .colab-df-convert:hover {\n",
              "      background-color: #434B5C;\n",
              "      box-shadow: 0px 1px 3px 1px rgba(0, 0, 0, 0.15);\n",
              "      filter: drop-shadow(0px 1px 2px rgba(0, 0, 0, 0.3));\n",
              "      fill: #FFFFFF;\n",
              "    }\n",
              "  </style>\n",
              "\n",
              "    <script>\n",
              "      const buttonEl =\n",
              "        document.querySelector('#df-b485e192-37ac-4717-92e9-e43aff96b3f1 button.colab-df-convert');\n",
              "      buttonEl.style.display =\n",
              "        google.colab.kernel.accessAllowed ? 'block' : 'none';\n",
              "\n",
              "      async function convertToInteractive(key) {\n",
              "        const element = document.querySelector('#df-b485e192-37ac-4717-92e9-e43aff96b3f1');\n",
              "        const dataTable =\n",
              "          await google.colab.kernel.invokeFunction('convertToInteractive',\n",
              "                                                    [key], {});\n",
              "        if (!dataTable) return;\n",
              "\n",
              "        const docLinkHtml = 'Like what you see? Visit the ' +\n",
              "          '<a target=\"_blank\" href=https://colab.research.google.com/notebooks/data_table.ipynb>data table notebook</a>'\n",
              "          + ' to learn more about interactive tables.';\n",
              "        element.innerHTML = '';\n",
              "        dataTable['output_type'] = 'display_data';\n",
              "        await google.colab.output.renderOutput(dataTable, element);\n",
              "        const docLink = document.createElement('div');\n",
              "        docLink.innerHTML = docLinkHtml;\n",
              "        element.appendChild(docLink);\n",
              "      }\n",
              "    </script>\n",
              "  </div>\n",
              "\n",
              "\n",
              "<div id=\"df-0eda15c5-4e14-420e-b1f1-ec28a1c25472\">\n",
              "  <button class=\"colab-df-quickchart\" onclick=\"quickchart('df-0eda15c5-4e14-420e-b1f1-ec28a1c25472')\"\n",
              "            title=\"Suggest charts\"\n",
              "            style=\"display:none;\">\n",
              "\n",
              "<svg xmlns=\"http://www.w3.org/2000/svg\" height=\"24px\"viewBox=\"0 0 24 24\"\n",
              "     width=\"24px\">\n",
              "    <g>\n",
              "        <path d=\"M19 3H5c-1.1 0-2 .9-2 2v14c0 1.1.9 2 2 2h14c1.1 0 2-.9 2-2V5c0-1.1-.9-2-2-2zM9 17H7v-7h2v7zm4 0h-2V7h2v10zm4 0h-2v-4h2v4z\"/>\n",
              "    </g>\n",
              "</svg>\n",
              "  </button>\n",
              "\n",
              "<style>\n",
              "  .colab-df-quickchart {\n",
              "      --bg-color: #E8F0FE;\n",
              "      --fill-color: #1967D2;\n",
              "      --hover-bg-color: #E2EBFA;\n",
              "      --hover-fill-color: #174EA6;\n",
              "      --disabled-fill-color: #AAA;\n",
              "      --disabled-bg-color: #DDD;\n",
              "  }\n",
              "\n",
              "  [theme=dark] .colab-df-quickchart {\n",
              "      --bg-color: #3B4455;\n",
              "      --fill-color: #D2E3FC;\n",
              "      --hover-bg-color: #434B5C;\n",
              "      --hover-fill-color: #FFFFFF;\n",
              "      --disabled-bg-color: #3B4455;\n",
              "      --disabled-fill-color: #666;\n",
              "  }\n",
              "\n",
              "  .colab-df-quickchart {\n",
              "    background-color: var(--bg-color);\n",
              "    border: none;\n",
              "    border-radius: 50%;\n",
              "    cursor: pointer;\n",
              "    display: none;\n",
              "    fill: var(--fill-color);\n",
              "    height: 32px;\n",
              "    padding: 0;\n",
              "    width: 32px;\n",
              "  }\n",
              "\n",
              "  .colab-df-quickchart:hover {\n",
              "    background-color: var(--hover-bg-color);\n",
              "    box-shadow: 0 1px 2px rgba(60, 64, 67, 0.3), 0 1px 3px 1px rgba(60, 64, 67, 0.15);\n",
              "    fill: var(--button-hover-fill-color);\n",
              "  }\n",
              "\n",
              "  .colab-df-quickchart-complete:disabled,\n",
              "  .colab-df-quickchart-complete:disabled:hover {\n",
              "    background-color: var(--disabled-bg-color);\n",
              "    fill: var(--disabled-fill-color);\n",
              "    box-shadow: none;\n",
              "  }\n",
              "\n",
              "  .colab-df-spinner {\n",
              "    border: 2px solid var(--fill-color);\n",
              "    border-color: transparent;\n",
              "    border-bottom-color: var(--fill-color);\n",
              "    animation:\n",
              "      spin 1s steps(1) infinite;\n",
              "  }\n",
              "\n",
              "  @keyframes spin {\n",
              "    0% {\n",
              "      border-color: transparent;\n",
              "      border-bottom-color: var(--fill-color);\n",
              "      border-left-color: var(--fill-color);\n",
              "    }\n",
              "    20% {\n",
              "      border-color: transparent;\n",
              "      border-left-color: var(--fill-color);\n",
              "      border-top-color: var(--fill-color);\n",
              "    }\n",
              "    30% {\n",
              "      border-color: transparent;\n",
              "      border-left-color: var(--fill-color);\n",
              "      border-top-color: var(--fill-color);\n",
              "      border-right-color: var(--fill-color);\n",
              "    }\n",
              "    40% {\n",
              "      border-color: transparent;\n",
              "      border-right-color: var(--fill-color);\n",
              "      border-top-color: var(--fill-color);\n",
              "    }\n",
              "    60% {\n",
              "      border-color: transparent;\n",
              "      border-right-color: var(--fill-color);\n",
              "    }\n",
              "    80% {\n",
              "      border-color: transparent;\n",
              "      border-right-color: var(--fill-color);\n",
              "      border-bottom-color: var(--fill-color);\n",
              "    }\n",
              "    90% {\n",
              "      border-color: transparent;\n",
              "      border-bottom-color: var(--fill-color);\n",
              "    }\n",
              "  }\n",
              "</style>\n",
              "\n",
              "  <script>\n",
              "    async function quickchart(key) {\n",
              "      const quickchartButtonEl =\n",
              "        document.querySelector('#' + key + ' button');\n",
              "      quickchartButtonEl.disabled = true;  // To prevent multiple clicks.\n",
              "      quickchartButtonEl.classList.add('colab-df-spinner');\n",
              "      try {\n",
              "        const charts = await google.colab.kernel.invokeFunction(\n",
              "            'suggestCharts', [key], {});\n",
              "      } catch (error) {\n",
              "        console.error('Error during call to suggestCharts:', error);\n",
              "      }\n",
              "      quickchartButtonEl.classList.remove('colab-df-spinner');\n",
              "      quickchartButtonEl.classList.add('colab-df-quickchart-complete');\n",
              "    }\n",
              "    (() => {\n",
              "      let quickchartButtonEl =\n",
              "        document.querySelector('#df-0eda15c5-4e14-420e-b1f1-ec28a1c25472 button');\n",
              "      quickchartButtonEl.style.display =\n",
              "        google.colab.kernel.accessAllowed ? 'block' : 'none';\n",
              "    })();\n",
              "  </script>\n",
              "</div>\n",
              "\n",
              "    </div>\n",
              "  </div>\n"
            ],
            "application/vnd.google.colaboratory.intrinsic+json": {
              "type": "dataframe",
              "variable_name": "data",
              "summary": "{\n  \"name\": \"data\",\n  \"rows\": 545,\n  \"fields\": [\n    {\n      \"column\": \"AGEP\",\n      \"properties\": {\n        \"dtype\": \"number\",\n        \"std\": 0.21820440102238117,\n        \"min\": 0.0,\n        \"max\": 1.0,\n        \"num_unique_values\": 62,\n        \"samples\": [\n          0.06060606060606061,\n          0.8787878787878789,\n          0.36363636363636365\n        ],\n        \"semantic_type\": \"\",\n        \"description\": \"\"\n      }\n    },\n    {\n      \"column\": \"SCHL\",\n      \"properties\": {\n        \"dtype\": \"number\",\n        \"std\": 0.1796638367603629,\n        \"min\": 0.0,\n        \"max\": 1.0,\n        \"num_unique_values\": 20,\n        \"samples\": [\n          0.4782608695652174,\n          0.6956521739130435,\n          0.6086956521739131\n        ],\n        \"semantic_type\": \"\",\n        \"description\": \"\"\n      }\n    },\n    {\n      \"column\": \"WKHP\",\n      \"properties\": {\n        \"dtype\": \"number\",\n        \"std\": 0.13280638965918398,\n        \"min\": 0.0,\n        \"max\": 0.9999999999999999,\n        \"num_unique_values\": 48,\n        \"samples\": [\n          0.7244897959183673,\n          0.32653061224489793,\n          0.2346938775510204\n        ],\n        \"semantic_type\": \"\",\n        \"description\": \"\"\n      }\n    },\n    {\n      \"column\": \"RAC1P\",\n      \"properties\": {\n        \"dtype\": \"category\",\n        \"num_unique_values\": 7,\n        \"samples\": [\n          8,\n          6,\n          7\n        ],\n        \"semantic_type\": \"\",\n        \"description\": \"\"\n      }\n    },\n    {\n      \"column\": \"PINCP\",\n      \"properties\": {\n        \"dtype\": \"number\",\n        \"std\": 91724.63287538702,\n        \"min\": -4800.0,\n        \"max\": 941000.0,\n        \"num_unique_values\": 264,\n        \"samples\": [\n          49000.0,\n          30080.0,\n          21400.0\n        ],\n        \"semantic_type\": \"\",\n        \"description\": \"\"\n      }\n    }\n  ]\n}"
            }
          },
          "metadata": {},
          "execution_count": 8
        }
      ]
    },
    {
      "cell_type": "code",
      "source": [
        "#@markdown Let's see how the distributions look after using the scaler\n",
        "fig, ax = plt.subplots(3,1,figsize=(8,12))\n",
        "\n",
        "ax[0] = sns.histplot(data=data, x=\"AGEP\", ax=ax[0])\n",
        "ax[1] = sns.histplot(data=data, x=\"SCHL\", ax=ax[1])\n",
        "ax[2] = sns.histplot(data=data, x=\"WKHP\", ax=ax[2])\n",
        "\n",
        "plt.show()"
      ],
      "metadata": {
        "colab": {
          "base_uri": "https://localhost:8080/",
          "height": 1000
        },
        "id": "XK5FbMBdwbJ_",
        "outputId": "dd98218c-fd5f-46ea-f83c-d89f0d9e3726"
      },
      "execution_count": 9,
      "outputs": [
        {
          "output_type": "display_data",
          "data": {
            "text/plain": [
              "<Figure size 800x1200 with 3 Axes>"
            ],
            "image/png": "[encoded data removed]"
          },
          "metadata": {}
        }
      ]
    },
    {
      "cell_type": "code",
      "source": [
        "# @markdown View number of unique values per feature\n",
        "for col in data.columns:\n",
        "    print(col,\": \",data[col].nunique())"
      ],
      "metadata": {
        "colab": {
          "base_uri": "https://localhost:8080/"
        },
        "id": "r1pGyx3eYsWV",
        "outputId": "49d64f86-4de4-400a-a138-603a34d2a477"
      },
      "execution_count": 10,
      "outputs": [
        {
          "output_type": "stream",
          "name": "stdout",
          "text": [
            "AGEP :  62\n",
            "SCHL :  20\n",
            "WKHP :  48\n",
            "RAC1P :  7\n",
            "PINCP :  264\n"
          ]
        }
      ]
    },
    {
      "cell_type": "code",
      "source": [
        "#@markdown Here we will drop the target variable as well because in our scenario\n",
        "#@markdown we define our own target variables.\n",
        "data.drop(columns=['PINCP'], inplace=True)"
      ],
      "metadata": {
        "id": "wwrJTz1yY4XE"
      },
      "execution_count": 11,
      "outputs": []
    },
    {
      "cell_type": "markdown",
      "source": [
        "# Using ShaRP to calculate feature importance"
      ],
      "metadata": {
        "id": "spIVkKyS8L1U"
      }
    },
    {
      "cell_type": "markdown",
      "source": [
        "## Different ranking functions"
      ],
      "metadata": {
        "id": "2f_PJxay8VWI"
      }
    },
    {
      "cell_type": "markdown",
      "source": [
        "We will define three  ranking functions on Age, Work hours per week and education (`AGEP`, `SCHL`, `WKHP`). We use these features because we define numerical functions here and they are either continuous or ordinal categorical.\n",
        "\n",
        "Note that each function places higher weight in one of the features."
      ],
      "metadata": {
        "id": "N31W8Bow8umw"
      }
    },
    {
      "cell_type": "code",
      "source": [
        "#@markdown Define the scoring function and calculate the scores of all individuals\n",
        "def score_function_SCHL(X):\n",
        "    # AGEP, SCHL, WKHP\n",
        "    return 0.2 * X[:, 0] + 0.6 * X[:, 1] + 0.2 * X[:, 2]\n",
        "\n",
        "def score_function_WKHP(X):\n",
        "    # AGEP, SCHL, WKHP\n",
        "    return 0.2 * X[:, 0] + 0.2 * X[:, 1] + 0.6 * X[:, 2]\n",
        "\n",
        "def score_function_AGEP(X):\n",
        "    # AGEP, SCHL, WKHP\n",
        "    return 0.6 * X[:, 0] + 0.2 * X[:, 1] + 0.2 * X[:, 2]"
      ],
      "metadata": {
        "id": "bT6Oo2VRZFh2"
      },
      "execution_count": 12,
      "outputs": []
    },
    {
      "cell_type": "code",
      "source": [
        "# @markdown Save the dataframe into a numpy array called X and calculate the\n",
        "# @markdown target scores for all functions\n",
        "X = data.to_numpy()\n",
        "y_SCHL = score_function_SCHL(X)\n",
        "y_WKHP = score_function_WKHP(X)\n",
        "y_AGEP = score_function_AGEP(X)"
      ],
      "metadata": {
        "id": "xE0e6Zv_8lc5"
      },
      "execution_count": 13,
      "outputs": []
    },
    {
      "cell_type": "markdown",
      "source": [
        "## Define a ShaRP object for each function\n",
        "\n",
        "We will use an approximation to calculate feature importance faster. To do so, we use the parameter `sample_size`. See the [QII paper](https://ieeexplore.ieee.org/document/7546525) for more details on the number of samples and approximation error."
      ],
      "metadata": {
        "id": "g2jtOdDs9zzJ"
      }
    },
    {
      "cell_type": "code",
      "source": [
        "# @markdown ShaRP object for the first (SCHL) score function\n",
        "sharp_ranking_SCHL = ShaRP(\n",
        "    qoi=\"rank\",\n",
        "    target_function=score_function_SCHL,\n",
        "    measure=\"shapley\",\n",
        "    sample_size=150,\n",
        "    replace=False,\n",
        "    random_state=42,\n",
        ")\n",
        "\n",
        "sharp_ranking_SCHL.fit(X)"
      ],
      "metadata": {
        "id": "vyuiboQ6ZIET"
      },
      "execution_count": 14,
      "outputs": []
    },
    {
      "cell_type": "code",
      "source": [
        "sharp_ranking_WKHP = ShaRP(\n",
        "    qoi=\"rank\",\n",
        "    target_function=score_function_WKHP,\n",
        "    measure=\"shapley\",\n",
        "    sample_size=150,\n",
        "    replace=False,\n",
        "    random_state=42,\n",
        ")\n",
        "\n",
        "sharp_ranking_WKHP.fit(X)"
      ],
      "metadata": {
        "id": "WbtBRaw7-Ztb"
      },
      "execution_count": 15,
      "outputs": []
    },
    {
      "cell_type": "code",
      "source": [
        "sharp_ranking_AGEP = ShaRP(\n",
        "    qoi=\"rank\",\n",
        "    target_function=score_function_AGEP,\n",
        "    measure=\"shapley\",\n",
        "    sample_size=150,\n",
        "    replace=False,\n",
        "    random_state=42,\n",
        ")\n",
        "\n",
        "sharp_ranking_AGEP.fit(X)"
      ],
      "metadata": {
        "id": "PkwQOmXW6mal"
      },
      "execution_count": 16,
      "outputs": []
    },
    {
      "cell_type": "markdown",
      "source": [
        "## Item order per function\n",
        "\n",
        "The ranked order of the data points depends on the ranking function. Let's calculate the ranking defined by each function."
      ],
      "metadata": {
        "id": "Sz1MMzaO_hxF"
      }
    },
    {
      "cell_type": "code",
      "source": [
        "order_WKHP = scores_to_ordering(y_WKHP)\n",
        "order_WKHP"
      ],
      "metadata": {
        "colab": {
          "base_uri": "https://localhost:8080/"
        },
        "id": "qk4LgSBj1nEv",
        "outputId": "3ec4b811-7e03-441c-f4b3-33b52fc7055e"
      },
      "execution_count": 17,
      "outputs": [
        {
          "output_type": "execute_result",
          "data": {
            "text/plain": [
              "array([406, 336,  63, 220,  88, 343, 183, 281, 342, 433, 541, 162, 377,\n",
              "       376, 129, 324, 266, 216, 464, 362,  67,  98, 320, 138, 439, 521,\n",
              "       185, 182, 420, 234, 127, 164, 530, 355, 476, 338, 472,  32, 214,\n",
              "       363, 482,  49, 329, 461, 326, 542,  77, 354, 365, 516, 287, 471,\n",
              "        48, 175, 435, 289, 350, 414,  65, 453, 490,  96, 115, 410, 534,\n",
              "       479, 132, 348, 402, 274, 403, 148, 399, 249,  79, 407,  21, 366,\n",
              "       361, 485, 269,  82, 493,  52, 114, 416, 202, 337, 252, 298, 211,\n",
              "       405, 255, 305, 290, 261, 459,  15,  28, 522,  29, 455, 257, 469,\n",
              "       119, 207,  25, 346,  34, 307, 378, 514, 180, 451, 495, 263,  19,\n",
              "        17, 386, 312, 474, 245, 396, 391,  69, 371, 155, 120, 204, 124,\n",
              "       158, 141,  75, 392,  47, 369, 126,   4, 533, 169, 425, 235,   6,\n",
              "        51, 197,  24, 221, 519, 225, 520, 273, 349, 341, 432, 335, 208,\n",
              "       452,  14, 467, 529, 528, 325, 508,  53, 487, 195, 382, 454, 201,\n",
              "       418, 470, 351, 135,  43,  39, 253,  35,  61, 477, 267, 176, 539,\n",
              "       270, 309,  41, 265,  33,  92, 259, 143, 491, 492,  73, 456, 353,\n",
              "       532, 436, 295, 424,  91, 233,  87, 430, 260, 443,  36, 370,  86,\n",
              "       322, 330, 545,   9, 284,  18, 123, 241, 428,  30,  54, 413, 515,\n",
              "       484, 165, 109, 327, 409, 504, 239, 438, 356, 352, 283, 393, 527,\n",
              "         2, 316, 280, 466, 540, 394, 340,  37, 113,  90, 170, 178, 531,\n",
              "       133, 108,  83,  74, 437, 426, 441, 121, 188, 210, 319, 100, 145,\n",
              "       400, 537, 384, 478, 144, 359, 374, 496, 193, 243, 536, 251, 156,\n",
              "       364, 242, 525, 271, 387, 506, 279,  38,  12, 231, 157, 177, 357,\n",
              "       317, 419, 223, 494, 254, 149, 264, 460, 196, 535, 288, 385, 103,\n",
              "       206,  62, 272, 101, 339,  20,  45,  46,  31, 184,  27, 134, 332,\n",
              "        76,  66, 130,  70,  59, 513, 152, 168,  22, 328, 140,   3,  57,\n",
              "       226, 300, 427, 398,  10, 219, 150, 360, 440, 397, 408, 303, 431,\n",
              "       524, 310, 505, 311, 192,  26, 236, 117, 498, 277, 297, 401, 481,\n",
              "        56, 381,  99, 372, 500,  11, 292, 194, 262,  81,  89,  16, 229,\n",
              "       200, 217, 390, 203, 137,  95, 154, 299, 240, 102, 302, 465, 187,\n",
              "       526, 122, 163, 415, 166, 423, 268, 308, 344, 181, 116, 118, 296,\n",
              "       278, 457, 503,  72, 473, 501, 291, 458, 151,  55,  23, 212, 248,\n",
              "       190, 215,  80, 222, 232,   5, 106, 422, 518, 104, 125, 380, 247,\n",
              "       367, 517, 301, 373, 313,  71, 205, 275, 306, 411,  85, 512, 139,\n",
              "       136, 499, 146, 379, 447, 213, 395, 507,  42,  68,  13, 246,   1,\n",
              "       444, 228, 172,   7, 321, 110, 258, 179, 107, 462,  93,  97, 314,\n",
              "       412, 511, 318, 159, 173, 389, 230, 199, 293, 383, 128, 147, 189,\n",
              "       160,   8, 489, 238,  58, 486, 315, 333, 375, 497, 449, 480, 345,\n",
              "       347, 502, 111, 282, 358, 209, 544, 421, 429, 475, 331, 463, 244,\n",
              "       112, 523, 509,  64, 483, 334,  60, 131, 323, 388, 368, 218, 256,\n",
              "       286, 186, 105, 276, 445, 191,  40, 468, 171, 446, 538, 237, 510,\n",
              "       488, 224, 442,  50, 404, 167, 153, 304, 250, 434, 227,  78, 417,\n",
              "       294,  94, 142, 161, 285, 174, 448, 198,  84, 450,  44, 543])"
            ]
          },
          "metadata": {},
          "execution_count": 17
        }
      ]
    },
    {
      "cell_type": "code",
      "source": [],
      "metadata": {
        "id": "8wJQb8PsI8Wd"
      },
      "execution_count": 17,
      "outputs": []
    },
    {
      "cell_type": "code",
      "source": [
        "# @markdown Order of data points based on the first scoring function\n",
        "order_SCHL = scores_to_ordering(y_SCHL)\n",
        "order_SCHL"
      ],
      "metadata": {
        "colab": {
          "base_uri": "https://localhost:8080/"
        },
        "id": "u9iHflLLZKpi",
        "outputId": "e94f9466-f20f-4c50-974b-3e334f4a94e4"
      },
      "execution_count": 18,
      "outputs": [
        {
          "output_type": "execute_result",
          "data": {
            "text/plain": [
              "array([493, 425, 324, 333, 129, 450, 113, 237, 536, 487, 523, 172, 509,\n",
              "       526,  99, 185, 226, 387, 117, 250,  41, 403, 264,  30, 357, 320,\n",
              "       229, 114, 459, 231, 134, 127, 396, 388, 538, 503, 521,  73, 142,\n",
              "       520, 419, 317, 273, 532, 371, 465,  95, 126, 504, 390, 347, 416,\n",
              "        78, 103, 469, 312, 435, 472,  37, 443, 485,  96,  89, 519, 479,\n",
              "       535, 145, 282, 338, 365, 244, 299, 288, 171, 361, 449,  21, 359,\n",
              "       241, 246, 121, 110, 507,  27, 177, 455, 175, 407, 346, 495, 182,\n",
              "       414, 266, 252, 313, 181, 151,  57, 104, 489,  56, 364, 280, 458,\n",
              "       168,  58,  23, 285,  31, 116, 404, 441, 147, 478, 415, 391,  36,\n",
              "        25, 289, 221, 537, 309, 444, 442,  18, 517,  81, 135, 123, 176,\n",
              "       236, 188, 234, 392,   7, 249, 190,  13, 541, 245, 463, 196,  10,\n",
              "        52, 124,  39, 259, 525, 223, 545, 399, 283, 300, 326, 426, 348,\n",
              "       529,  16, 500, 440, 412, 421, 476, 291, 335, 192, 186, 169, 178,\n",
              "       281, 527, 432, 109,  54,   8, 319,  14, 164, 518, 191, 323, 531,\n",
              "       233, 352, 132, 228, 106, 214, 215, 152, 287, 474,  67, 363, 434,\n",
              "       452, 353, 411, 492, 522, 260,  48, 219, 216, 513,  43, 256, 382,\n",
              "       230, 274, 508,   1, 405,  17,  93, 204, 303,  29, 150, 502, 544,\n",
              "       367,  71, 158, 337, 497, 542, 301, 454, 389, 433, 423, 321, 439,\n",
              "       179, 393, 306, 501, 482, 205, 345,  26, 251,  98, 210,  19, 477,\n",
              "       153, 195, 122,  40, 295, 510, 331, 130, 155, 220, 330, 159, 118,\n",
              "       515, 471, 410, 499, 107, 325, 212, 422, 366, 373, 456, 339,  82,\n",
              "       384, 163, 498, 201, 512, 437, 305,  11,   4, 297, 302, 322, 394,\n",
              "       372, 473, 262, 430, 318, 232, 227, 385, 125, 457, 340, 379, 148,\n",
              "       383, 350, 506,  60, 344,   5,  32, 208, 293,  45,   6, 108, 242,\n",
              "       207,  94, 243, 137, 102, 468, 211,  28,  83, 294, 187,   2,  47,\n",
              "       224, 349, 398, 413,  35, 327, 199, 292,  33, 431, 505, 253, 445,\n",
              "       494, 258, 375, 222, 406, 101, 197,  88, 539, 307, 496, 400, 420,\n",
              "        46, 451,  22, 370, 481,   3, 311, 316, 180,  44,  20, 162, 358,\n",
              "       278,  77, 276, 174,  63,  97, 161, 380, 235,  59, 263, 362, 193,\n",
              "       395,  92, 128, 239,  91, 533, 136, 351, 429, 146,  87, 209,  65,\n",
              "       304, 290, 424, 111, 484, 453, 314, 462, 200,  62,  34, 144, 170,\n",
              "       157, 105, 377, 261, 461,  15,  70, 376, 524,  68, 189, 286, 275,\n",
              "       360, 490, 480, 334, 173, 112, 133,  66, 218,  84,  85, 268,  12,\n",
              "        64, 409, 119, 374, 194, 143, 448, 427, 115, 269,   9, 308,  76,\n",
              "       401, 149, 139, 332, 265, 131, 257, 184,  49, 467, 203,  51, 428,\n",
              "       402, 486, 329, 217, 138, 267, 296, 315, 248, 438, 100,  72, 156,\n",
              "       167, 198, 491, 369,  24, 514, 418, 213, 446, 255, 534, 540, 381,\n",
              "       284, 417,  80, 238, 355, 277, 543, 460, 466, 408, 272, 436,  90,\n",
              "        79, 488, 336,  50, 397, 202,  61, 165, 516, 386, 298, 354, 279,\n",
              "       356, 183,  69, 341,  74, 120,  38, 225,  42, 475, 530, 368, 483,\n",
              "       528, 240, 511,  53, 447, 310, 160, 254, 378, 470, 154,  75, 270,\n",
              "       247, 141, 206, 166,  55, 140, 328, 343,  86, 342, 271, 464])"
            ]
          },
          "metadata": {},
          "execution_count": 18
        }
      ]
    },
    {
      "cell_type": "code",
      "source": [
        "order_AGEP = scores_to_ordering(y_AGEP)\n",
        "order_AGEP"
      ],
      "metadata": {
        "colab": {
          "base_uri": "https://localhost:8080/"
        },
        "id": "dWTLWaqm6pd8",
        "outputId": "8ea85b2f-b9a3-456f-8930-88760fca85a7"
      },
      "execution_count": 19,
      "outputs": [
        {
          "output_type": "execute_result",
          "data": {
            "text/plain": [
              "array([386, 342, 178, 431, 228, 306, 237, 382, 324, 482, 543, 290, 241,\n",
              "       512, 136, 225, 358, 251,  21, 255, 107, 374, 423, 213,  48, 353,\n",
              "       174, 236, 489, 283, 108, 176, 493, 404, 335, 449, 499, 190, 300,\n",
              "       170, 505, 181, 440, 450, 380, 532, 169, 182, 242, 509, 434, 501,\n",
              "        62, 223, 511, 348, 368, 274,  95, 393, 508, 151, 109, 339, 536,\n",
              "       461, 121, 456, 454, 153, 419,  52, 337, 351, 161, 465,  49, 436,\n",
              "       124, 238, 207,  23, 126, 149, 315, 483, 267, 369, 231, 129, 284,\n",
              "       441,  38, 399, 349, 360,  58, 112,  13, 528, 171, 470, 292, 452,\n",
              "       295, 117,  16, 459,  31,  71, 435, 523, 212, 525, 479, 229,  79,\n",
              "        89, 127, 425, 318, 249, 433, 417,  40, 338, 188, 219,  42,  81,\n",
              "       103, 105, 277, 484,  12, 137, 341,   1, 387, 118, 495, 298,   3,\n",
              "       101, 268,  20, 233, 448, 264, 541, 261, 457, 296, 302, 343, 148,\n",
              "       428,  35, 519, 500, 517, 325, 475, 226, 276,  85, 202, 204, 150,\n",
              "       410, 481, 367, 144,  36,   5, 263,   2, 116, 518, 384,  91, 544,\n",
              "       372, 344,  27, 357,  44,  80, 331, 134, 354, 497, 115, 471, 366,\n",
              "       530, 464, 288, 442, 102, 252, 141, 227, 332, 451,  68, 271, 319,\n",
              "       334, 439, 542,   4, 280,  29, 123, 309, 447,  28, 322, 402, 529,\n",
              "       355,  17,  56, 398, 396, 491, 232, 463, 405, 365, 245, 415, 494,\n",
              "       130, 209, 328, 520, 514, 113, 407,  54, 278, 281, 140,  69, 538,\n",
              "       250,  37, 216,  30, 203, 506, 189, 200, 221, 253, 389, 287, 156,\n",
              "       304, 515, 444, 224,  39, 446, 147, 498,  90, 193, 533, 104, 187,\n",
              "       165, 333, 539, 394, 275, 524, 327,  24,  19, 218,  63,  92, 503,\n",
              "       474, 473, 371, 513, 262,  94, 359,  88, 269, 534, 413, 466,  46,\n",
              "       131, 272, 279,  77, 406,   8,  93, 240,  59, 158,  10, 145, 460,\n",
              "       412,  65, 239,  53,  86, 411, 379,  66,  34, 285, 106,  41, 163,\n",
              "       265, 114, 478, 235,  11, 314, 119, 469,  18, 210, 377, 401, 421,\n",
              "       537, 408, 507, 426, 323, 273, 297, 111, 307, 330, 128, 496, 504,\n",
              "        45, 487,  51, 445, 522,  15, 347, 397, 361,  32, 138, 214, 173,\n",
              "       185, 260, 311, 266, 166, 152, 142, 308, 293,  76, 430, 257, 195,\n",
              "       409, 122, 175, 303, 199, 286, 146, 345, 356, 211, 110,  55,  25,\n",
              "       329,  67, 480, 192, 429, 395, 346, 381, 120, 132,  61, 299, 350,\n",
              "       220, 317, 313, 370,  70,  33,  83,  98, 336,  84, 340, 443, 282,\n",
              "       437, 535, 172, 468,  87, 191, 294, 201, 414,  14, 247, 243,   6,\n",
              "       167, 427, 157, 455,  50, 301, 472, 486, 258,  47,  26, 248, 133,\n",
              "       159, 310, 197, 416, 424, 326, 420, 186, 234, 490, 168,  57, 362,\n",
              "       492, 526, 390, 388, 198, 180, 217, 164, 391, 403, 135, 177, 222,\n",
              "       154,  64, 467, 184, 208, 540, 316, 289, 378, 244, 375, 352, 485,\n",
              "       458, 462,  96, 383, 422,  75, 432, 488, 502, 376, 438, 179, 385,\n",
              "        97, 527,  99,  74, 320, 373,   9,  60, 125, 476, 477, 162, 291,\n",
              "       256,  78,  82, 418,   7, 254,  43, 215, 270, 521, 545, 183, 516,\n",
              "       363, 305, 205, 100, 453,  73, 143, 400, 206, 510, 194, 230, 160,\n",
              "       392, 259, 364, 155,  22, 196,  72, 139, 246, 321, 312, 531])"
            ]
          },
          "metadata": {},
          "execution_count": 19
        }
      ]
    },
    {
      "cell_type": "markdown",
      "source": [
        "## Item explainability for multiple functions\n",
        "\n",
        "Now we will select the person ranked 100th using the first function, and explain their featre importance under ALL functions"
      ],
      "metadata": {
        "id": "e9RMS0Vc_NVF"
      }
    },
    {
      "cell_type": "markdown",
      "source": [
        "## TODO: Part (a)"
      ],
      "metadata": {
        "id": "j_efiN2QAbqI"
      }
    },
    {
      "cell_type": "markdown",
      "source": [
        "### Part (i)"
      ],
      "metadata": {
        "id": "kdygVvBVmYoh"
      }
    },
    {
      "cell_type": "code",
      "source": [
        "# Select the 100th ranked individual according to sharp_ranking_SCHL\n",
        "i100th = np.where(order_SCHL == 100)[0]\n",
        "print(i100th)\n",
        "print(data.iloc[i100th])\n"
      ],
      "metadata": {
        "id": "wS4ByEg2mbHJ",
        "colab": {
          "base_uri": "https://localhost:8080/"
        },
        "outputId": "d256c493-d9e6-4c78-cdbb-f8550bb1894a"
      },
      "execution_count": 36,
      "outputs": [
        {
          "output_type": "stream",
          "name": "stdout",
          "text": [
            "[465]\n",
            "            AGEP      SCHL      WKHP RAC1P  RANK\n",
            "118853  0.560606  0.869565  0.397959     1   100\n"
          ]
        }
      ]
    },
    {
      "cell_type": "code",
      "source": [
        "# Find that individual's rank according to sharp_ranking_WKHP\n",
        "i100_rank_WKHP = order_WKHP[i100th]\n",
        "print(i100_rank_WKHP)\n"
      ],
      "metadata": {
        "id": "DIbqjL7qnDku",
        "colab": {
          "base_uri": "https://localhost:8080/"
        },
        "outputId": "9c9682e7-83a1-4161-f229-7def5417f49a"
      },
      "execution_count": 38,
      "outputs": [
        {
          "output_type": "stream",
          "name": "stdout",
          "text": [
            "[128]\n"
          ]
        }
      ]
    },
    {
      "cell_type": "code",
      "source": [
        "# Find that individual's rank according to sharp_ranking_AGEP\n",
        "i100_rank_AGEP = order_AGEP[i100th]\n",
        "print(i100_rank_AGEP)"
      ],
      "metadata": {
        "id": "MUc_4yAHnHZH",
        "colab": {
          "base_uri": "https://localhost:8080/"
        },
        "outputId": "6849cefb-0d15-485c-844f-16b970be0c26"
      },
      "execution_count": 22,
      "outputs": [
        {
          "output_type": "stream",
          "name": "stdout",
          "text": [
            "[135]\n"
          ]
        }
      ]
    },
    {
      "cell_type": "code",
      "source": [
        "# Do the above for another individual\n",
        "ifirst_SCHL = np.where(order_SCHL == 1)[0]\n",
        "print(ifirst_SCHL)\n",
        "ifirst_rank_WKHP = order_WKHP[ifirst_SCHL]\n",
        "print(ifirst_rank_WKHP)\n",
        "ifirst_rank_AGEP = order_AGEP[ifirst_SCHL]\n",
        "print(ifirst_rank_AGEP)\n",
        "print(data.iloc[ifirst_SCHL])\n",
        "\n"
      ],
      "metadata": {
        "id": "JBtHFwNmJOtH",
        "colab": {
          "base_uri": "https://localhost:8080/"
        },
        "outputId": "83eab2af-9558-477f-c760-c853db95ac77"
      },
      "execution_count": 23,
      "outputs": [
        {
          "output_type": "stream",
          "name": "stdout",
          "text": [
            "[211]\n",
            "[9]\n",
            "[4]\n",
            "           AGEP  SCHL      WKHP RAC1P\n",
            "319356  0.80303   1.0  0.602041     1\n"
          ]
        }
      ]
    },
    {
      "cell_type": "markdown",
      "source": [
        "### Part (ii)"
      ],
      "metadata": {
        "id": "n9yj--uqnJtE"
      }
    },
    {
      "cell_type": "code",
      "source": [
        "# Inspect the individual feature contributions (waterfall plot) for the 100th ranked individual for sharp_ranking_SCHL\n",
        "individual_scores_SCHL = sharp_ranking_SCHL.individual(int(i100th[0]), X)\n",
        "sharp_ranking_SCHL.plot.waterfall(individual_scores_SCHL)\n",
        "\n",
        "plt.show()"
      ],
      "metadata": {
        "id": "nXqWKGVEmdXF",
        "colab": {
          "base_uri": "https://localhost:8080/",
          "height": 486
        },
        "outputId": "a3ae5f10-3f32-4de2-bdae-0413095b96e4"
      },
      "execution_count": 24,
      "outputs": [
        {
          "output_type": "display_data",
          "data": {
            "text/plain": [
              "<Figure size 640x480 with 3 Axes>"
            ],
            "image/png": "[encoded data removed]"
          },
          "metadata": {}
        }
      ]
    },
    {
      "cell_type": "code",
      "source": [
        "# Inspect the individual feature contributions (waterfall plot) for the 100th ranked individual for sharp_ranking_WKHP\n",
        "individual_scores_WKHP = sharp_ranking_WKHP.individual(int(i100th[0]), X)\n",
        "sharp_ranking_WKHP.plot.waterfall(individual_scores_WKHP)\n",
        "\n",
        "plt.show()"
      ],
      "metadata": {
        "id": "o8heHpW2moEs",
        "colab": {
          "base_uri": "https://localhost:8080/",
          "height": 486
        },
        "outputId": "9b0a4458-31a7-4038-d3eb-99d0651073c6"
      },
      "execution_count": 43,
      "outputs": [
        {
          "output_type": "display_data",
          "data": {
            "text/plain": [
              "<Figure size 640x480 with 3 Axes>"
            ],
            "image/png": "[encoded data removed]"
          },
          "metadata": {}
        }
      ]
    },
    {
      "cell_type": "code",
      "source": [
        "# Inspect the individual feature contributions (waterfall plot) for the 100th ranked individual for sharp_ranking_AGEP\n",
        "individual_scores_AGEP = sharp_ranking_AGEP.individual(int(i100th[0]), X)\n",
        "sharp_ranking_AGEP.plot.waterfall(individual_scores_AGEP)\n",
        "\n",
        "plt.show()"
      ],
      "metadata": {
        "id": "7Z3ZmUfTmoWQ",
        "colab": {
          "base_uri": "https://localhost:8080/",
          "height": 486
        },
        "outputId": "1744d256-a61c-4488-e030-0de9715dccd2"
      },
      "execution_count": 44,
      "outputs": [
        {
          "output_type": "display_data",
          "data": {
            "text/plain": [
              "<Figure size 640x480 with 3 Axes>"
            ],
            "image/png": "[encoded data removed]"
          },
          "metadata": {}
        }
      ]
    },
    {
      "cell_type": "code",
      "source": [],
      "metadata": {
        "id": "Cx993D94n0ad"
      },
      "execution_count": null,
      "outputs": []
    },
    {
      "cell_type": "code",
      "source": [
        "#Feature importance for another individual, who ranks at first position in the score_function_SCHL function.\n",
        "i2_scores_SCHL = sharp_ranking_SCHL.individual(int(ifirst_SCHL[0]), X)\n",
        "sharp_ranking_SCHL.plot.waterfall(i2_scores_SCHL)\n",
        "\n",
        "plt.show()\n"
      ],
      "metadata": {
        "colab": {
          "base_uri": "https://localhost:8080/",
          "height": 486
        },
        "id": "wjUdJtb3nKVk",
        "outputId": "26ddcc45-1b4a-4233-ec3d-804cf1e0326b"
      },
      "execution_count": 39,
      "outputs": [
        {
          "output_type": "display_data",
          "data": {
            "text/plain": [
              "<Figure size 640x480 with 3 Axes>"
            ],
            "image/png": "[encoded data removed]"
          },
          "metadata": {}
        }
      ]
    },
    {
      "cell_type": "code",
      "source": [
        "i2_scores_WKHP = sharp_ranking_WKHP.individual(int(ifirst_SCHL[0]), X)\n",
        "sharp_ranking_WKHP.plot.waterfall(i2_scores_WKHP)\n",
        "\n",
        "plt.show()"
      ],
      "metadata": {
        "colab": {
          "base_uri": "https://localhost:8080/",
          "height": 486
        },
        "id": "YuCXJNJ9nlSY",
        "outputId": "016eef98-6fd0-42b3-fd14-ee667ae2f2e8"
      },
      "execution_count": 45,
      "outputs": [
        {
          "output_type": "display_data",
          "data": {
            "text/plain": [
              "<Figure size 640x480 with 3 Axes>"
            ],
            "image/png": "[encoded data removed]"
          },
          "metadata": {}
        }
      ]
    },
    {
      "cell_type": "code",
      "source": [
        "i2_scores_AGEP = sharp_ranking_AGEP.individual(int(ifirst_SCHL[0]), X)\n",
        "sharp_ranking_AGEP.plot.waterfall(i2_scores_AGEP)\n",
        "\n",
        "plt.show()"
      ],
      "metadata": {
        "colab": {
          "base_uri": "https://localhost:8080/",
          "height": 486
        },
        "id": "_2CRoFmcn126",
        "outputId": "74ec2d0a-b8f9-4c4f-d8f8-e8856cb65105"
      },
      "execution_count": 46,
      "outputs": [
        {
          "output_type": "display_data",
          "data": {
            "text/plain": [
              "<Figure size 640x480 with 3 Axes>"
            ],
            "image/png": "[encoded data removed]"
          },
          "metadata": {}
        }
      ]
    },
    {
      "cell_type": "markdown",
      "source": [
        "## TODO: Part (b)\n",
        "\n",
        "### Part (i)\n",
        "\n",
        "Now we will calculate the feature importances based on groups defined by the sensitive attribute. We will select one ranking function for this question and calculate the rank QoI feature importances for the top 20%."
      ],
      "metadata": {
        "id": "RfP8DFz188bw"
      }
    },
    {
      "cell_type": "code",
      "source": [
        "# @markdown Add the rank to the dataframe\n",
        "data['RANK'] = order_SCHL\n",
        "\n",
        "data.head()"
      ],
      "metadata": {
        "colab": {
          "base_uri": "https://localhost:8080/",
          "height": 206
        },
        "id": "tupsUFwSo9va",
        "outputId": "1d4d007f-45eb-4957-c97f-a71d59d1cc90"
      },
      "execution_count": 27,
      "outputs": [
        {
          "output_type": "execute_result",
          "data": {
            "text/plain": [
              "            AGEP      SCHL      WKHP RAC1P  RANK\n",
              "123170  0.363636  0.478261  0.397959     8   493\n",
              "366093  0.363636  0.652174  0.397959     8   425\n",
              "206601  0.515152  0.652174  0.561224     6   324\n",
              "96394   0.151515  0.782609  0.500000     1   333\n",
              "232318  0.393939  0.869565  0.500000     9   129"
            ],
            "text/html": [
              "\n",
              "  <div id=\"df-42a17f58-d9d8-44e4-a58b-f6b5776be7e8\" class=\"colab-df-container\">\n",
              "    <div>\n",
              "<style scoped>\n",
              "    .dataframe tbody tr th:only-of-type {\n",
              "        vertical-align: middle;\n",
              "    }\n",
              "\n",
              "    .dataframe tbody tr th {\n",
              "        vertical-align: top;\n",
              "    }\n",
              "\n",
              "    .dataframe thead th {\n",
              "        text-align: right;\n",
              "    }\n",
              "</style>\n",
              "<table border=\"1\" class=\"dataframe\">\n",
              "  <thead>\n",
              "    <tr style=\"text-align: right;\">\n",
              "      <th></th>\n",
              "      <th>AGEP</th>\n",
              "      <th>SCHL</th>\n",
              "      <th>WKHP</th>\n",
              "      <th>RAC1P</th>\n",
              "      <th>RANK</th>\n",
              "    </tr>\n",
              "  </thead>\n",
              "  <tbody>\n",
              "    <tr>\n",
              "      <th>123170</th>\n",
              "      <td>0.363636</td>\n",
              "      <td>0.478261</td>\n",
              "      <td>0.397959</td>\n",
              "      <td>8</td>\n",
              "      <td>493</td>\n",
              "    </tr>\n",
              "    <tr>\n",
              "      <th>366093</th>\n",
              "      <td>0.363636</td>\n",
              "      <td>0.652174</td>\n",
              "      <td>0.397959</td>\n",
              "      <td>8</td>\n",
              "      <td>425</td>\n",
              "    </tr>\n",
              "    <tr>\n",
              "      <th>206601</th>\n",
              "      <td>0.515152</td>\n",
              "      <td>0.652174</td>\n",
              "      <td>0.561224</td>\n",
              "      <td>6</td>\n",
              "      <td>324</td>\n",
              "    </tr>\n",
              "    <tr>\n",
              "      <th>96394</th>\n",
              "      <td>0.151515</td>\n",
              "      <td>0.782609</td>\n",
              "      <td>0.500000</td>\n",
              "      <td>1</td>\n",
              "      <td>333</td>\n",
              "    </tr>\n",
              "    <tr>\n",
              "      <th>232318</th>\n",
              "      <td>0.393939</td>\n",
              "      <td>0.869565</td>\n",
              "      <td>0.500000</td>\n",
              "      <td>9</td>\n",
              "      <td>129</td>\n",
              "    </tr>\n",
              "  </tbody>\n",
              "</table>\n",
              "</div>\n",
              "    <div class=\"colab-df-buttons\">\n",
              "\n",
              "  <div class=\"colab-df-container\">\n",
              "    <button class=\"colab-df-convert\" onclick=\"convertToInteractive('df-42a17f58-d9d8-44e4-a58b-f6b5776be7e8')\"\n",
              "            title=\"Convert this dataframe to an interactive table.\"\n",
              "            style=\"display:none;\">\n",
              "\n",
              "  <svg xmlns=\"http://www.w3.org/2000/svg\" height=\"24px\" viewBox=\"0 -960 960 960\">\n",
              "    <path d=\"M120-120v-720h720v720H120Zm60-500h600v-160H180v160Zm220 220h160v-160H400v160Zm0 220h160v-160H400v160ZM180-400h160v-160H180v160Zm440 0h160v-160H620v160ZM180-180h160v-160H180v160Zm440 0h160v-160H620v160Z\"/>\n",
              "  </svg>\n",
              "    </button>\n",
              "\n",
              "  <style>\n",
              "    .colab-df-container {\n",
              "      display:flex;\n",
              "      gap: 12px;\n",
              "    }\n",
              "\n",
              "    .colab-df-convert {\n",
              "      background-color: #E8F0FE;\n",
              "      border: none;\n",
              "      border-radius: 50%;\n",
              "      cursor: pointer;\n",
              "      display: none;\n",
              "      fill: #1967D2;\n",
              "      height: 32px;\n",
              "      padding: 0 0 0 0;\n",
              "      width: 32px;\n",
              "    }\n",
              "\n",
              "    .colab-df-convert:hover {\n",
              "      background-color: #E2EBFA;\n",
              "      box-shadow: 0px 1px 2px rgba(60, 64, 67, 0.3), 0px 1px 3px 1px rgba(60, 64, 67, 0.15);\n",
              "      fill: #174EA6;\n",
              "    }\n",
              "\n",
              "    .colab-df-buttons div {\n",
              "      margin-bottom: 4px;\n",
              "    }\n",
              "\n",
              "    [theme=dark] .colab-df-convert {\n",
              "      background-color: #3B4455;\n",
              "      fill: #D2E3FC;\n",
              "    }\n",
              "\n",
              "    [theme=dark] .colab-df-convert:hover {\n",
              "      background-color: #434B5C;\n",
              "      box-shadow: 0px 1px 3px 1px rgba(0, 0, 0, 0.15);\n",
              "      filter: drop-shadow(0px 1px 2px rgba(0, 0, 0, 0.3));\n",
              "      fill: #FFFFFF;\n",
              "    }\n",
              "  </style>\n",
              "\n",
              "    <script>\n",
              "      const buttonEl =\n",
              "        document.querySelector('#df-42a17f58-d9d8-44e4-a58b-f6b5776be7e8 button.colab-df-convert');\n",
              "      buttonEl.style.display =\n",
              "        google.colab.kernel.accessAllowed ? 'block' : 'none';\n",
              "\n",
              "      async function convertToInteractive(key) {\n",
              "        const element = document.querySelector('#df-42a17f58-d9d8-44e4-a58b-f6b5776be7e8');\n",
              "        const dataTable =\n",
              "          await google.colab.kernel.invokeFunction('convertToInteractive',\n",
              "                                                    [key], {});\n",
              "        if (!dataTable) return;\n",
              "\n",
              "        const docLinkHtml = 'Like what you see? Visit the ' +\n",
              "          '<a target=\"_blank\" href=https://colab.research.google.com/notebooks/data_table.ipynb>data table notebook</a>'\n",
              "          + ' to learn more about interactive tables.';\n",
              "        element.innerHTML = '';\n",
              "        dataTable['output_type'] = 'display_data';\n",
              "        await google.colab.output.renderOutput(dataTable, element);\n",
              "        const docLink = document.createElement('div');\n",
              "        docLink.innerHTML = docLinkHtml;\n",
              "        element.appendChild(docLink);\n",
              "      }\n",
              "    </script>\n",
              "  </div>\n",
              "\n",
              "\n",
              "<div id=\"df-16585ba9-e306-4ae3-af97-db0e3602ccc2\">\n",
              "  <button class=\"colab-df-quickchart\" onclick=\"quickchart('df-16585ba9-e306-4ae3-af97-db0e3602ccc2')\"\n",
              "            title=\"Suggest charts\"\n",
              "            style=\"display:none;\">\n",
              "\n",
              "<svg xmlns=\"http://www.w3.org/2000/svg\" height=\"24px\"viewBox=\"0 0 24 24\"\n",
              "     width=\"24px\">\n",
              "    <g>\n",
              "        <path d=\"M19 3H5c-1.1 0-2 .9-2 2v14c0 1.1.9 2 2 2h14c1.1 0 2-.9 2-2V5c0-1.1-.9-2-2-2zM9 17H7v-7h2v7zm4 0h-2V7h2v10zm4 0h-2v-4h2v4z\"/>\n",
              "    </g>\n",
              "</svg>\n",
              "  </button>\n",
              "\n",
              "<style>\n",
              "  .colab-df-quickchart {\n",
              "      --bg-color: #E8F0FE;\n",
              "      --fill-color: #1967D2;\n",
              "      --hover-bg-color: #E2EBFA;\n",
              "      --hover-fill-color: #174EA6;\n",
              "      --disabled-fill-color: #AAA;\n",
              "      --disabled-bg-color: #DDD;\n",
              "  }\n",
              "\n",
              "  [theme=dark] .colab-df-quickchart {\n",
              "      --bg-color: #3B4455;\n",
              "      --fill-color: #D2E3FC;\n",
              "      --hover-bg-color: #434B5C;\n",
              "      --hover-fill-color: #FFFFFF;\n",
              "      --disabled-bg-color: #3B4455;\n",
              "      --disabled-fill-color: #666;\n",
              "  }\n",
              "\n",
              "  .colab-df-quickchart {\n",
              "    background-color: var(--bg-color);\n",
              "    border: none;\n",
              "    border-radius: 50%;\n",
              "    cursor: pointer;\n",
              "    display: none;\n",
              "    fill: var(--fill-color);\n",
              "    height: 32px;\n",
              "    padding: 0;\n",
              "    width: 32px;\n",
              "  }\n",
              "\n",
              "  .colab-df-quickchart:hover {\n",
              "    background-color: var(--hover-bg-color);\n",
              "    box-shadow: 0 1px 2px rgba(60, 64, 67, 0.3), 0 1px 3px 1px rgba(60, 64, 67, 0.15);\n",
              "    fill: var(--button-hover-fill-color);\n",
              "  }\n",
              "\n",
              "  .colab-df-quickchart-complete:disabled,\n",
              "  .colab-df-quickchart-complete:disabled:hover {\n",
              "    background-color: var(--disabled-bg-color);\n",
              "    fill: var(--disabled-fill-color);\n",
              "    box-shadow: none;\n",
              "  }\n",
              "\n",
              "  .colab-df-spinner {\n",
              "    border: 2px solid var(--fill-color);\n",
              "    border-color: transparent;\n",
              "    border-bottom-color: var(--fill-color);\n",
              "    animation:\n",
              "      spin 1s steps(1) infinite;\n",
              "  }\n",
              "\n",
              "  @keyframes spin {\n",
              "    0% {\n",
              "      border-color: transparent;\n",
              "      border-bottom-color: var(--fill-color);\n",
              "      border-left-color: var(--fill-color);\n",
              "    }\n",
              "    20% {\n",
              "      border-color: transparent;\n",
              "      border-left-color: var(--fill-color);\n",
              "      border-top-color: var(--fill-color);\n",
              "    }\n",
              "    30% {\n",
              "      border-color: transparent;\n",
              "      border-left-color: var(--fill-color);\n",
              "      border-top-color: var(--fill-color);\n",
              "      border-right-color: var(--fill-color);\n",
              "    }\n",
              "    40% {\n",
              "      border-color: transparent;\n",
              "      border-right-color: var(--fill-color);\n",
              "      border-top-color: var(--fill-color);\n",
              "    }\n",
              "    60% {\n",
              "      border-color: transparent;\n",
              "      border-right-color: var(--fill-color);\n",
              "    }\n",
              "    80% {\n",
              "      border-color: transparent;\n",
              "      border-right-color: var(--fill-color);\n",
              "      border-bottom-color: var(--fill-color);\n",
              "    }\n",
              "    90% {\n",
              "      border-color: transparent;\n",
              "      border-bottom-color: var(--fill-color);\n",
              "    }\n",
              "  }\n",
              "</style>\n",
              "\n",
              "  <script>\n",
              "    async function quickchart(key) {\n",
              "      const quickchartButtonEl =\n",
              "        document.querySelector('#' + key + ' button');\n",
              "      quickchartButtonEl.disabled = true;  // To prevent multiple clicks.\n",
              "      quickchartButtonEl.classList.add('colab-df-spinner');\n",
              "      try {\n",
              "        const charts = await google.colab.kernel.invokeFunction(\n",
              "            'suggestCharts', [key], {});\n",
              "      } catch (error) {\n",
              "        console.error('Error during call to suggestCharts:', error);\n",
              "      }\n",
              "      quickchartButtonEl.classList.remove('colab-df-spinner');\n",
              "      quickchartButtonEl.classList.add('colab-df-quickchart-complete');\n",
              "    }\n",
              "    (() => {\n",
              "      let quickchartButtonEl =\n",
              "        document.querySelector('#df-16585ba9-e306-4ae3-af97-db0e3602ccc2 button');\n",
              "      quickchartButtonEl.style.display =\n",
              "        google.colab.kernel.accessAllowed ? 'block' : 'none';\n",
              "    })();\n",
              "  </script>\n",
              "</div>\n",
              "\n",
              "    </div>\n",
              "  </div>\n"
            ],
            "application/vnd.google.colaboratory.intrinsic+json": {
              "type": "dataframe",
              "variable_name": "data",
              "summary": "{\n  \"name\": \"data\",\n  \"rows\": 545,\n  \"fields\": [\n    {\n      \"column\": \"AGEP\",\n      \"properties\": {\n        \"dtype\": \"number\",\n        \"std\": 0.21820440102238117,\n        \"min\": 0.0,\n        \"max\": 1.0,\n        \"num_unique_values\": 62,\n        \"samples\": [\n          0.06060606060606061,\n          0.8787878787878789,\n          0.36363636363636365\n        ],\n        \"semantic_type\": \"\",\n        \"description\": \"\"\n      }\n    },\n    {\n      \"column\": \"SCHL\",\n      \"properties\": {\n        \"dtype\": \"number\",\n        \"std\": 0.1796638367603629,\n        \"min\": 0.0,\n        \"max\": 1.0,\n        \"num_unique_values\": 20,\n        \"samples\": [\n          0.4782608695652174,\n          0.6956521739130435,\n          0.6086956521739131\n        ],\n        \"semantic_type\": \"\",\n        \"description\": \"\"\n      }\n    },\n    {\n      \"column\": \"WKHP\",\n      \"properties\": {\n        \"dtype\": \"number\",\n        \"std\": 0.13280638965918398,\n        \"min\": 0.0,\n        \"max\": 0.9999999999999999,\n        \"num_unique_values\": 48,\n        \"samples\": [\n          0.7244897959183673,\n          0.32653061224489793,\n          0.2346938775510204\n        ],\n        \"semantic_type\": \"\",\n        \"description\": \"\"\n      }\n    },\n    {\n      \"column\": \"RAC1P\",\n      \"properties\": {\n        \"dtype\": \"category\",\n        \"num_unique_values\": 7,\n        \"samples\": [\n          8,\n          6,\n          7\n        ],\n        \"semantic_type\": \"\",\n        \"description\": \"\"\n      }\n    },\n    {\n      \"column\": \"RANK\",\n      \"properties\": {\n        \"dtype\": \"number\",\n        \"std\": 157,\n        \"min\": 1,\n        \"max\": 545,\n        \"num_unique_values\": 545,\n        \"samples\": [\n          102,\n          359,\n          44\n        ],\n        \"semantic_type\": \"\",\n        \"description\": \"\"\n      }\n    }\n  ]\n}"
            }
          },
          "metadata": {},
          "execution_count": 27
        }
      ]
    },
    {
      "cell_type": "code",
      "source": [
        "# # @markdown Function that will split feature explanations into different strata.\n",
        "# # @markdown For this question we only look at the top 20% and plot the conributions\n",
        "# # @markdown in 10% strata.\n",
        "\n",
        "# Note that s is the ranks of the individuals (you can find this using the scores_to_ordering utility function, see Lab 8 for an example)\n",
        "def make_boxplot_top20(df, X, s):\n",
        "  buckets = 2\n",
        "  rows = max(s)\n",
        "  df['My Rank'] = s\n",
        "  df['Rank Bucket'] = [\"0-\\n10%\" if math.floor((rank - 1) / (rows / buckets)) == 0 else str(math.floor((rank - 1) / (rows / buckets)) * 10) + \"-\\n\" + str(math.floor(((rank - 1) / (rows / buckets)) + 1) * 10) + \"%\" for rank in df['My Rank']]\n",
        "  df.sort_values(by=['Rank Bucket'],inplace=True)\n",
        "  yaxis_order = list(df.sort_values(by=['Rank Bucket'])['Rank Bucket'].unique())\n",
        "\n",
        "  df = (\n",
        "      df\n",
        "      .drop(columns=[\"My Rank\"])\n",
        "      .melt(id_vars=[\"Rank Bucket\"])\n",
        "      .rename(columns={\"variable\": \"Feature\", \"value\": \"Contribution\"})\n",
        "  )\n",
        "\n",
        "  plot_df = df.copy()\n",
        "\n",
        "  plot_df[\"Rank Bucket\"] = plot_df[\"Rank Bucket\"].str.replace(\"%\", \"\\%\").str.replace(\"<\", \"$<$\")\n",
        "\n",
        "  graph = sns.boxplot(x = plot_df['Rank Bucket'], y = plot_df['Contribution'], hue = plot_df['Feature'], palette = \"Set2\")\n",
        "  sns.move_legend(\n",
        "      graph, \"lower center\", bbox_to_anchor=(1, 1.05), ncol=4, title=None, frameon=False, labels=[\"AGEP\",'WKHP',\"SCHL\"]\n",
        "  )\n",
        "  plt.setp(graph.patches, linewidth=1)\n",
        "  graph.set_xlabel(\"Rank stratum\\n(a)\")\n",
        "\n",
        "  plt.show()"
      ],
      "metadata": {
        "id": "PyBDLcGD71FB"
      },
      "execution_count": 28,
      "outputs": []
    },
    {
      "cell_type": "markdown",
      "source": [
        "Below is a usage example for this function given an X and y as they are created in this assignment:\n",
        "\n",
        "\n",
        "```\n",
        "# NEW\n",
        "sharp_ranking_SCHL_not_white = ShaRP(\n",
        "    qoi=\"rank\",\n",
        "    target_function=score_function_SCHL,\n",
        "    measure=\"shapley\",\n",
        "    sample_size=None,\n",
        "    replace=False,\n",
        "    random_state=42,\n",
        ")\n",
        "X = data_non_white.drop(columns=['RAC1P', 'RANK']).to_numpy()\n",
        "ranks = data_non_white['RANK'].to_numpy()\n",
        "sharp_ranking_SCHL_not_white.fit(X)\n",
        "df = pd.DataFrame(sharp_ranking_SCHL_not_white.all(X))\n",
        "make_boxplot_top20(df,X, ranks)\n",
        "```\n",
        "\n"
      ],
      "metadata": {
        "id": "Qt32tLEHqC6T"
      }
    },
    {
      "cell_type": "code",
      "source": [
        "# Split the top-20% into two new dataframes (white and non-white) using the race feature"
      ],
      "metadata": {
        "id": "FeeqjjUOos_8"
      },
      "execution_count": 29,
      "outputs": []
    },
    {
      "cell_type": "code",
      "source": [
        "# Create a ShaRP object for the white dataframe"
      ],
      "metadata": {
        "id": "7Uh9b9v_qnTs"
      },
      "execution_count": 30,
      "outputs": []
    },
    {
      "cell_type": "code",
      "source": [
        "# Create a ShaRP object for the non-white dataframe"
      ],
      "metadata": {
        "id": "HO3OQSgvqqjh"
      },
      "execution_count": 31,
      "outputs": []
    },
    {
      "cell_type": "markdown",
      "source": [
        "### Part (ii)"
      ],
      "metadata": {
        "id": "OXqsAA0jqtOG"
      }
    },
    {
      "cell_type": "code",
      "source": [
        "# Use the make_boxplot_top20 function on each of the dataframes (see usage example above)"
      ],
      "metadata": {
        "id": "UGh15cvbo9ne"
      },
      "execution_count": 32,
      "outputs": []
    },
    {
      "cell_type": "markdown",
      "source": [
        "### Part (iii)\n",
        "\n",
        "Inspect the plots in Part (ii)"
      ],
      "metadata": {
        "id": "4BZPRgssrj7C"
      }
    },
    {
      "cell_type": "markdown",
      "source": [
        "### Part (iv)\n",
        "\n",
        "Inspect the plots in Part (ii)"
      ],
      "metadata": {
        "id": "bmUYv4uAry_D"
      }
    },
    {
      "cell_type": "markdown",
      "source": [
        "# Part (c)\n",
        "\n",
        "Now we will try to compare the feature importance of two separate people (the 200th and the 300th). Select two samples and calculate their individual feature contributions under any QoI. Like in the question above, fix the ranking function to the first one to do so. Late visualize a way to explain why one is ranked higher than the other!\n",
        "\n",
        "**Note:** use the full dataset (not the datasets for each race) and use the `score_function_SCHL` ranker."
      ],
      "metadata": {
        "id": "Pg83qFN9_6pa"
      }
    },
    {
      "cell_type": "code",
      "source": [
        "# Select the index of the 200th ranked individual and save them in a variable called i200\n",
        "# Select the index of the 300th ranked individual and save them in a variable called i300"
      ],
      "metadata": {
        "id": "fkG8dZJIr63Q"
      },
      "execution_count": 33,
      "outputs": []
    },
    {
      "cell_type": "code",
      "source": [
        "# Create a waterfall plot for each of these individuals"
      ],
      "metadata": {
        "id": "DJ19CxkqsCin"
      },
      "execution_count": 34,
      "outputs": []
    },
    {
      "cell_type": "code",
      "source": [
        "# Design a new way to visualize the difference between these two individuals\n",
        "# Be creative! There are no wrong answers, only incompletes :)"
      ],
      "metadata": {
        "id": "xDjpcHUjsWfY"
      },
      "execution_count": 35,
      "outputs": []
    }
  ]
}